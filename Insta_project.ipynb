{
 "cells": [
  {
   "cell_type": "markdown",
   "id": "ae61377b",
   "metadata": {},
   "source": [
    "# Importing the libraries"
   ]
  },
  {
   "cell_type": "code",
   "execution_count": 191,
   "id": "3a1dd4ca",
   "metadata": {},
   "outputs": [],
   "source": [
    "import numpy as np\n",
    "import pandas as pd\n",
    "import matplotlib.pyplot as plt\n",
    "import seaborn as sns"
   ]
  },
  {
   "cell_type": "markdown",
   "id": "0dd802e2",
   "metadata": {},
   "source": [
    "# Loading the dataset"
   ]
  },
  {
   "cell_type": "code",
   "execution_count": 192,
   "id": "7c6c4112",
   "metadata": {},
   "outputs": [
    {
     "data": {
      "text/html": [
       "<div>\n",
       "<style scoped>\n",
       "    .dataframe tbody tr th:only-of-type {\n",
       "        vertical-align: middle;\n",
       "    }\n",
       "\n",
       "    .dataframe tbody tr th {\n",
       "        vertical-align: top;\n",
       "    }\n",
       "\n",
       "    .dataframe thead th {\n",
       "        text-align: right;\n",
       "    }\n",
       "</style>\n",
       "<table border=\"1\" class=\"dataframe\">\n",
       "  <thead>\n",
       "    <tr style=\"text-align: right;\">\n",
       "      <th></th>\n",
       "      <th>Name</th>\n",
       "      <th>Rank</th>\n",
       "      <th>Category</th>\n",
       "      <th>Followers</th>\n",
       "      <th>Audience Country</th>\n",
       "      <th>Authentic Engagement</th>\n",
       "      <th>Engagement Avg.</th>\n",
       "    </tr>\n",
       "  </thead>\n",
       "  <tbody>\n",
       "    <tr>\n",
       "      <th>0</th>\n",
       "      <td>cristiano</td>\n",
       "      <td>1</td>\n",
       "      <td>Sports with a ball</td>\n",
       "      <td>462.9M</td>\n",
       "      <td>India</td>\n",
       "      <td>5.5M</td>\n",
       "      <td>6.6M</td>\n",
       "    </tr>\n",
       "    <tr>\n",
       "      <th>1</th>\n",
       "      <td>leomessi</td>\n",
       "      <td>2</td>\n",
       "      <td>Sports with a ballFamily</td>\n",
       "      <td>347.2M</td>\n",
       "      <td>Argentina</td>\n",
       "      <td>3.6M</td>\n",
       "      <td>4.8M</td>\n",
       "    </tr>\n",
       "    <tr>\n",
       "      <th>2</th>\n",
       "      <td>kendalljenner</td>\n",
       "      <td>3</td>\n",
       "      <td>ModelingFashion</td>\n",
       "      <td>247.6M</td>\n",
       "      <td>United States</td>\n",
       "      <td>3M</td>\n",
       "      <td>4.9M</td>\n",
       "    </tr>\n",
       "    <tr>\n",
       "      <th>3</th>\n",
       "      <td>arianagrande</td>\n",
       "      <td>4</td>\n",
       "      <td>Music</td>\n",
       "      <td>321.4M</td>\n",
       "      <td>United States</td>\n",
       "      <td>2.4M</td>\n",
       "      <td>3.4M</td>\n",
       "    </tr>\n",
       "    <tr>\n",
       "      <th>4</th>\n",
       "      <td>zendaya</td>\n",
       "      <td>5</td>\n",
       "      <td>Cinema &amp; Actors/actressesFashion</td>\n",
       "      <td>147M</td>\n",
       "      <td>United States</td>\n",
       "      <td>4.3M</td>\n",
       "      <td>5.8M</td>\n",
       "    </tr>\n",
       "    <tr>\n",
       "      <th>...</th>\n",
       "      <td>...</td>\n",
       "      <td>...</td>\n",
       "      <td>...</td>\n",
       "      <td>...</td>\n",
       "      <td>...</td>\n",
       "      <td>...</td>\n",
       "      <td>...</td>\n",
       "    </tr>\n",
       "    <tr>\n",
       "      <th>995</th>\n",
       "      <td>nimratkhairaofficial</td>\n",
       "      <td>996</td>\n",
       "      <td>Music</td>\n",
       "      <td>8M</td>\n",
       "      <td>India</td>\n",
       "      <td>211.1K</td>\n",
       "      <td>261.8K</td>\n",
       "    </tr>\n",
       "    <tr>\n",
       "      <th>996</th>\n",
       "      <td>hanhyojoo222</td>\n",
       "      <td>997</td>\n",
       "      <td>TravelCinema &amp; Actors/actresses</td>\n",
       "      <td>4M</td>\n",
       "      <td>Indonesia</td>\n",
       "      <td>434.2K</td>\n",
       "      <td>518.2K</td>\n",
       "    </tr>\n",
       "    <tr>\n",
       "      <th>997</th>\n",
       "      <td>memphisdepay</td>\n",
       "      <td>998</td>\n",
       "      <td>Sports with a ball</td>\n",
       "      <td>15M</td>\n",
       "      <td>France</td>\n",
       "      <td>76.4K</td>\n",
       "      <td>135.5K</td>\n",
       "    </tr>\n",
       "    <tr>\n",
       "      <th>998</th>\n",
       "      <td>arminzareeiofficial</td>\n",
       "      <td>999</td>\n",
       "      <td>NaN</td>\n",
       "      <td>9.8M</td>\n",
       "      <td>Iran</td>\n",
       "      <td>135.4K</td>\n",
       "      <td>214K</td>\n",
       "    </tr>\n",
       "    <tr>\n",
       "      <th>999</th>\n",
       "      <td>noorstars</td>\n",
       "      <td>1000</td>\n",
       "      <td>Shows</td>\n",
       "      <td>13M</td>\n",
       "      <td>Iraq</td>\n",
       "      <td>117.6K</td>\n",
       "      <td>157.6K</td>\n",
       "    </tr>\n",
       "  </tbody>\n",
       "</table>\n",
       "<p>1000 rows × 7 columns</p>\n",
       "</div>"
      ],
      "text/plain": [
       "                     Name  Rank                          Category Followers  \\\n",
       "0               cristiano     1                Sports with a ball    462.9M   \n",
       "1                leomessi     2          Sports with a ballFamily    347.2M   \n",
       "2           kendalljenner     3                   ModelingFashion    247.6M   \n",
       "3            arianagrande     4                             Music    321.4M   \n",
       "4                 zendaya     5  Cinema & Actors/actressesFashion      147M   \n",
       "..                    ...   ...                               ...       ...   \n",
       "995  nimratkhairaofficial   996                             Music        8M   \n",
       "996          hanhyojoo222   997   TravelCinema & Actors/actresses        4M   \n",
       "997          memphisdepay   998                Sports with a ball       15M   \n",
       "998   arminzareeiofficial   999                               NaN      9.8M   \n",
       "999             noorstars  1000                             Shows       13M   \n",
       "\n",
       "    Audience Country Authentic Engagement Engagement Avg.  \n",
       "0              India                 5.5M            6.6M  \n",
       "1          Argentina                 3.6M            4.8M  \n",
       "2      United States                   3M            4.9M  \n",
       "3      United States                 2.4M            3.4M  \n",
       "4      United States                 4.3M            5.8M  \n",
       "..               ...                  ...             ...  \n",
       "995            India               211.1K          261.8K  \n",
       "996        Indonesia               434.2K          518.2K  \n",
       "997           France                76.4K          135.5K  \n",
       "998             Iran               135.4K            214K  \n",
       "999             Iraq               117.6K          157.6K  \n",
       "\n",
       "[1000 rows x 7 columns]"
      ]
     },
     "execution_count": 192,
     "metadata": {},
     "output_type": "execute_result"
    }
   ],
   "source": [
    "df=pd.read_csv('instagrammers.csv')\n",
    "df"
   ]
  },
  {
   "cell_type": "markdown",
   "id": "1c35281e",
   "metadata": {},
   "source": [
    "About the file\n",
    "-------------------------------------------------------------\n",
    "Name: Name of the account\n",
    "Rank: Overall rank in the world.\n",
    "Category: Stream of the account (Music, Games, etc..)\n",
    "Followers: Number of followers\n",
    "Audience Country: country of the majority of audience.\n",
    "Authentic Engagement: real people genuinely interacting with your content\n",
    "Engagement Avg.: how much people are interacting with your content on average"
   ]
  },
  {
   "cell_type": "markdown",
   "id": "d68d086d",
   "metadata": {},
   "source": [
    "# Understanding the dataset"
   ]
  },
  {
   "cell_type": "code",
   "execution_count": 193,
   "id": "ef4c14a3",
   "metadata": {},
   "outputs": [
    {
     "data": {
      "text/plain": [
       "Index(['Name', 'Rank', 'Category', 'Followers', 'Audience Country',\n",
       "       'Authentic Engagement', 'Engagement Avg.'],\n",
       "      dtype='object')"
      ]
     },
     "execution_count": 193,
     "metadata": {},
     "output_type": "execute_result"
    }
   ],
   "source": [
    "df.columns"
   ]
  },
  {
   "cell_type": "markdown",
   "id": "14a1120d",
   "metadata": {},
   "source": [
    "# Dataset Info"
   ]
  },
  {
   "cell_type": "code",
   "execution_count": 194,
   "id": "ab0d0664",
   "metadata": {},
   "outputs": [
    {
     "name": "stdout",
     "output_type": "stream",
     "text": [
      "<class 'pandas.core.frame.DataFrame'>\n",
      "RangeIndex: 1000 entries, 0 to 999\n",
      "Data columns (total 7 columns):\n",
      " #   Column                Non-Null Count  Dtype \n",
      "---  ------                --------------  ----- \n",
      " 0   Name                  1000 non-null   object\n",
      " 1   Rank                  1000 non-null   int64 \n",
      " 2   Category              916 non-null    object\n",
      " 3   Followers             1000 non-null   object\n",
      " 4   Audience Country      986 non-null    object\n",
      " 5   Authentic Engagement  1000 non-null   object\n",
      " 6   Engagement Avg.       1000 non-null   object\n",
      "dtypes: int64(1), object(6)\n",
      "memory usage: 54.8+ KB\n"
     ]
    }
   ],
   "source": [
    "df.info()"
   ]
  },
  {
   "cell_type": "markdown",
   "id": "bcf5658b",
   "metadata": {},
   "source": [
    "Observation:\n",
    "--------------------------------------------------------\n",
    "Category column has 84 missing values (mode)\n",
    "Audience Country column has 14 missing values (mode)"
   ]
  },
  {
   "cell_type": "markdown",
   "id": "4208c826",
   "metadata": {},
   "source": [
    "# Check how many nulls you have"
   ]
  },
  {
   "cell_type": "code",
   "execution_count": 195,
   "id": "ad85c669",
   "metadata": {},
   "outputs": [
    {
     "data": {
      "text/plain": [
       "Name                     0\n",
       "Rank                     0\n",
       "Category                84\n",
       "Followers                0\n",
       "Audience Country        14\n",
       "Authentic Engagement     0\n",
       "Engagement Avg.          0\n",
       "dtype: int64"
      ]
     },
     "execution_count": 195,
     "metadata": {},
     "output_type": "execute_result"
    }
   ],
   "source": [
    "df.isnull().sum()"
   ]
  },
  {
   "cell_type": "code",
   "execution_count": 196,
   "id": "da64bdfa",
   "metadata": {},
   "outputs": [
    {
     "data": {
      "text/plain": [
       "Category            84\n",
       "Audience Country    14\n",
       "dtype: int64"
      ]
     },
     "execution_count": 196,
     "metadata": {},
     "output_type": "execute_result"
    }
   ],
   "source": [
    "df[['Category','Audience Country']].isnull().sum()"
   ]
  },
  {
   "cell_type": "markdown",
   "id": "fc2b20ad",
   "metadata": {},
   "source": [
    "# Data Cleaning"
   ]
  },
  {
   "cell_type": "markdown",
   "id": "76d28aaa",
   "metadata": {},
   "source": [
    "# 1.Handling the null values"
   ]
  },
  {
   "cell_type": "markdown",
   "id": "fdc884a0",
   "metadata": {},
   "source": [
    " Fill missing values"
   ]
  },
  {
   "cell_type": "code",
   "execution_count": 197,
   "id": "b2ffdd2c",
   "metadata": {},
   "outputs": [],
   "source": [
    "df['Category']=df['Category'].fillna('Unknown')\n",
    "df['Audience Country']=df['Audience Country'].fillna('Unknown')"
   ]
  },
  {
   "cell_type": "markdown",
   "id": "3d50aedf",
   "metadata": {},
   "source": [
    "# Converting Data Type"
   ]
  },
  {
   "cell_type": "code",
   "execution_count": 198,
   "id": "d014e07c",
   "metadata": {},
   "outputs": [
    {
     "data": {
      "text/html": [
       "<div>\n",
       "<style scoped>\n",
       "    .dataframe tbody tr th:only-of-type {\n",
       "        vertical-align: middle;\n",
       "    }\n",
       "\n",
       "    .dataframe tbody tr th {\n",
       "        vertical-align: top;\n",
       "    }\n",
       "\n",
       "    .dataframe thead th {\n",
       "        text-align: right;\n",
       "    }\n",
       "</style>\n",
       "<table border=\"1\" class=\"dataframe\">\n",
       "  <thead>\n",
       "    <tr style=\"text-align: right;\">\n",
       "      <th></th>\n",
       "      <th>Name</th>\n",
       "      <th>Rank</th>\n",
       "      <th>Category</th>\n",
       "      <th>Followers</th>\n",
       "      <th>Audience Country</th>\n",
       "      <th>Authentic Engagement</th>\n",
       "      <th>Engagement Avg.</th>\n",
       "    </tr>\n",
       "  </thead>\n",
       "  <tbody>\n",
       "    <tr>\n",
       "      <th>0</th>\n",
       "      <td>cristiano</td>\n",
       "      <td>1</td>\n",
       "      <td>Sports with a ball</td>\n",
       "      <td>462.9</td>\n",
       "      <td>India</td>\n",
       "      <td>5.5M</td>\n",
       "      <td>6.6M</td>\n",
       "    </tr>\n",
       "    <tr>\n",
       "      <th>1</th>\n",
       "      <td>leomessi</td>\n",
       "      <td>2</td>\n",
       "      <td>Sports with a ballFamily</td>\n",
       "      <td>347.2</td>\n",
       "      <td>Argentina</td>\n",
       "      <td>3.6M</td>\n",
       "      <td>4.8M</td>\n",
       "    </tr>\n",
       "    <tr>\n",
       "      <th>2</th>\n",
       "      <td>kendalljenner</td>\n",
       "      <td>3</td>\n",
       "      <td>ModelingFashion</td>\n",
       "      <td>247.6</td>\n",
       "      <td>United States</td>\n",
       "      <td>3M</td>\n",
       "      <td>4.9M</td>\n",
       "    </tr>\n",
       "    <tr>\n",
       "      <th>3</th>\n",
       "      <td>arianagrande</td>\n",
       "      <td>4</td>\n",
       "      <td>Music</td>\n",
       "      <td>321.4</td>\n",
       "      <td>United States</td>\n",
       "      <td>2.4M</td>\n",
       "      <td>3.4M</td>\n",
       "    </tr>\n",
       "    <tr>\n",
       "      <th>4</th>\n",
       "      <td>zendaya</td>\n",
       "      <td>5</td>\n",
       "      <td>Cinema &amp; Actors/actressesFashion</td>\n",
       "      <td>147.0</td>\n",
       "      <td>United States</td>\n",
       "      <td>4.3M</td>\n",
       "      <td>5.8M</td>\n",
       "    </tr>\n",
       "    <tr>\n",
       "      <th>...</th>\n",
       "      <td>...</td>\n",
       "      <td>...</td>\n",
       "      <td>...</td>\n",
       "      <td>...</td>\n",
       "      <td>...</td>\n",
       "      <td>...</td>\n",
       "      <td>...</td>\n",
       "    </tr>\n",
       "    <tr>\n",
       "      <th>995</th>\n",
       "      <td>nimratkhairaofficial</td>\n",
       "      <td>996</td>\n",
       "      <td>Music</td>\n",
       "      <td>8.0</td>\n",
       "      <td>India</td>\n",
       "      <td>211.1K</td>\n",
       "      <td>261.8K</td>\n",
       "    </tr>\n",
       "    <tr>\n",
       "      <th>996</th>\n",
       "      <td>hanhyojoo222</td>\n",
       "      <td>997</td>\n",
       "      <td>TravelCinema &amp; Actors/actresses</td>\n",
       "      <td>4.0</td>\n",
       "      <td>Indonesia</td>\n",
       "      <td>434.2K</td>\n",
       "      <td>518.2K</td>\n",
       "    </tr>\n",
       "    <tr>\n",
       "      <th>997</th>\n",
       "      <td>memphisdepay</td>\n",
       "      <td>998</td>\n",
       "      <td>Sports with a ball</td>\n",
       "      <td>15.0</td>\n",
       "      <td>France</td>\n",
       "      <td>76.4K</td>\n",
       "      <td>135.5K</td>\n",
       "    </tr>\n",
       "    <tr>\n",
       "      <th>998</th>\n",
       "      <td>arminzareeiofficial</td>\n",
       "      <td>999</td>\n",
       "      <td>Unknown</td>\n",
       "      <td>9.8</td>\n",
       "      <td>Iran</td>\n",
       "      <td>135.4K</td>\n",
       "      <td>214K</td>\n",
       "    </tr>\n",
       "    <tr>\n",
       "      <th>999</th>\n",
       "      <td>noorstars</td>\n",
       "      <td>1000</td>\n",
       "      <td>Shows</td>\n",
       "      <td>13.0</td>\n",
       "      <td>Iraq</td>\n",
       "      <td>117.6K</td>\n",
       "      <td>157.6K</td>\n",
       "    </tr>\n",
       "  </tbody>\n",
       "</table>\n",
       "<p>1000 rows × 7 columns</p>\n",
       "</div>"
      ],
      "text/plain": [
       "                     Name  Rank                          Category  Followers  \\\n",
       "0               cristiano     1                Sports with a ball      462.9   \n",
       "1                leomessi     2          Sports with a ballFamily      347.2   \n",
       "2           kendalljenner     3                   ModelingFashion      247.6   \n",
       "3            arianagrande     4                             Music      321.4   \n",
       "4                 zendaya     5  Cinema & Actors/actressesFashion      147.0   \n",
       "..                    ...   ...                               ...        ...   \n",
       "995  nimratkhairaofficial   996                             Music        8.0   \n",
       "996          hanhyojoo222   997   TravelCinema & Actors/actresses        4.0   \n",
       "997          memphisdepay   998                Sports with a ball       15.0   \n",
       "998   arminzareeiofficial   999                           Unknown        9.8   \n",
       "999             noorstars  1000                             Shows       13.0   \n",
       "\n",
       "    Audience Country Authentic Engagement Engagement Avg.  \n",
       "0              India                 5.5M            6.6M  \n",
       "1          Argentina                 3.6M            4.8M  \n",
       "2      United States                   3M            4.9M  \n",
       "3      United States                 2.4M            3.4M  \n",
       "4      United States                 4.3M            5.8M  \n",
       "..               ...                  ...             ...  \n",
       "995            India               211.1K          261.8K  \n",
       "996        Indonesia               434.2K          518.2K  \n",
       "997           France                76.4K          135.5K  \n",
       "998             Iran               135.4K            214K  \n",
       "999             Iraq               117.6K          157.6K  \n",
       "\n",
       "[1000 rows x 7 columns]"
      ]
     },
     "execution_count": 198,
     "metadata": {},
     "output_type": "execute_result"
    }
   ],
   "source": [
    "df['Followers']=df['Followers'].str.replace('M','').astype(float)\n",
    "df"
   ]
  },
  {
   "cell_type": "code",
   "execution_count": 199,
   "id": "2c14df3b",
   "metadata": {},
   "outputs": [
    {
     "name": "stdout",
     "output_type": "stream",
     "text": [
      "<class 'pandas.core.frame.DataFrame'>\n",
      "RangeIndex: 1000 entries, 0 to 999\n",
      "Data columns (total 7 columns):\n",
      " #   Column                Non-Null Count  Dtype  \n",
      "---  ------                --------------  -----  \n",
      " 0   Name                  1000 non-null   object \n",
      " 1   Rank                  1000 non-null   int64  \n",
      " 2   Category              1000 non-null   object \n",
      " 3   Followers             1000 non-null   float64\n",
      " 4   Audience Country      1000 non-null   object \n",
      " 5   Authentic Engagement  1000 non-null   object \n",
      " 6   Engagement Avg.       1000 non-null   object \n",
      "dtypes: float64(1), int64(1), object(5)\n",
      "memory usage: 54.8+ KB\n"
     ]
    }
   ],
   "source": [
    "df.info()"
   ]
  },
  {
   "cell_type": "code",
   "execution_count": 200,
   "id": "ef154052",
   "metadata": {},
   "outputs": [],
   "source": [
    "def convert_to_int(value):\n",
    "    if isinstance(value, str): # isinstance is used to check the value sting or not\n",
    "        value = value.strip() # strip->It removes extra spaces from the beginning and end of a string.\n",
    "        if value.endswith('K'):\n",
    "            return int(float(value[:-1]) * 1_000) # value[:-1]->if we give :-1 it removes last char (ex: if \"1.3k\" it remove last 'k' char ext....)\n",
    "        elif value.endswith('M'):\n",
    "            return int(float(value[:-1]) * 1_000_000)\n",
    "        elif value.isdigit(): # isdigit()->it is used to check if all the characters in a string are digits(numaric char)\n",
    "            return int(value)\n",
    "    return None  # for empty or invalid values\n",
    "\n",
    "df['Authentic Engagement']=df['Authentic Engagement'].apply(convert_to_int)"
   ]
  },
  {
   "cell_type": "code",
   "execution_count": 201,
   "id": "d133374d",
   "metadata": {},
   "outputs": [],
   "source": [
    "def convert_to_int1(value):\n",
    "    if isinstance(value, str): # isinstance is used to check the value sting or not\n",
    "        value = value.strip()  # strip->It removes extra spaces from the beginning and end of a string.\n",
    "        if value.endswith('K'):\n",
    "            return int(float(value[:-1]) * 1_000) # value[:-1]->if we give :-1 it removes last char (ex: if \"1.3k\" it remove last 'k' char ext....)\n",
    "        elif value.endswith('M'):\n",
    "            return int(float(value[:-1]) * 1_000_000) \n",
    "        elif value.isdigit(): # isdigit()->it is used to check if all the characters in a string are digits(numaric char)\n",
    "            return int(value)\n",
    "    return None  # for empty or invalid values\n",
    "\n",
    "df['Engagement Avg.']=df['Engagement Avg.'].apply(convert_to_int1)"
   ]
  },
  {
   "cell_type": "markdown",
   "id": "0be16c82",
   "metadata": {},
   "source": [
    "# Data Transformation"
   ]
  },
  {
   "cell_type": "markdown",
   "id": "0ed3205d",
   "metadata": {},
   "source": [
    "# 1. Renaming the column name"
   ]
  },
  {
   "cell_type": "code",
   "execution_count": 202,
   "id": "1b92b509",
   "metadata": {},
   "outputs": [],
   "source": [
    "df=df.rename(columns={'Name':'Users_Name'})"
   ]
  },
  {
   "cell_type": "code",
   "execution_count": 203,
   "id": "a3919bc2",
   "metadata": {},
   "outputs": [],
   "source": [
    "df=df.rename(columns={'Authentic Engagement': 'Real_Audience_Interaction'})"
   ]
  },
  {
   "cell_type": "code",
   "execution_count": 204,
   "id": "ec22274f",
   "metadata": {},
   "outputs": [],
   "source": [
    "df=df.rename(columns={'Engagement Avg.': 'People_Interaction_Avg'})"
   ]
  },
  {
   "cell_type": "markdown",
   "id": "a3c86525",
   "metadata": {},
   "source": [
    "# understanding the dataset"
   ]
  },
  {
   "cell_type": "code",
   "execution_count": 205,
   "id": "0a6bc045",
   "metadata": {},
   "outputs": [
    {
     "data": {
      "text/plain": [
       "Index(['Users_Name', 'Rank', 'Category', 'Followers', 'Audience Country',\n",
       "       'Real_Audience_Interaction', 'People_Interaction_Avg'],\n",
       "      dtype='object')"
      ]
     },
     "execution_count": 205,
     "metadata": {},
     "output_type": "execute_result"
    }
   ],
   "source": [
    "df.columns"
   ]
  },
  {
   "cell_type": "markdown",
   "id": "9aa50f0e",
   "metadata": {},
   "source": [
    "# Rearranging the columns"
   ]
  },
  {
   "cell_type": "code",
   "execution_count": 206,
   "id": "97001997",
   "metadata": {},
   "outputs": [
    {
     "data": {
      "text/html": [
       "<div>\n",
       "<style scoped>\n",
       "    .dataframe tbody tr th:only-of-type {\n",
       "        vertical-align: middle;\n",
       "    }\n",
       "\n",
       "    .dataframe tbody tr th {\n",
       "        vertical-align: top;\n",
       "    }\n",
       "\n",
       "    .dataframe thead th {\n",
       "        text-align: right;\n",
       "    }\n",
       "</style>\n",
       "<table border=\"1\" class=\"dataframe\">\n",
       "  <thead>\n",
       "    <tr style=\"text-align: right;\">\n",
       "      <th></th>\n",
       "      <th>Users_Name</th>\n",
       "      <th>Category</th>\n",
       "      <th>Followers</th>\n",
       "      <th>Real_Audience_Interaction</th>\n",
       "      <th>People_Interaction_Avg</th>\n",
       "      <th>Rank</th>\n",
       "      <th>Audience Country</th>\n",
       "    </tr>\n",
       "  </thead>\n",
       "  <tbody>\n",
       "    <tr>\n",
       "      <th>0</th>\n",
       "      <td>cristiano</td>\n",
       "      <td>Sports with a ball</td>\n",
       "      <td>462.9</td>\n",
       "      <td>5500000</td>\n",
       "      <td>6600000</td>\n",
       "      <td>1</td>\n",
       "      <td>India</td>\n",
       "    </tr>\n",
       "    <tr>\n",
       "      <th>1</th>\n",
       "      <td>leomessi</td>\n",
       "      <td>Sports with a ballFamily</td>\n",
       "      <td>347.2</td>\n",
       "      <td>3600000</td>\n",
       "      <td>4800000</td>\n",
       "      <td>2</td>\n",
       "      <td>Argentina</td>\n",
       "    </tr>\n",
       "  </tbody>\n",
       "</table>\n",
       "</div>"
      ],
      "text/plain": [
       "  Users_Name                  Category  Followers  Real_Audience_Interaction  \\\n",
       "0  cristiano        Sports with a ball      462.9                    5500000   \n",
       "1   leomessi  Sports with a ballFamily      347.2                    3600000   \n",
       "\n",
       "   People_Interaction_Avg  Rank Audience Country  \n",
       "0                 6600000     1            India  \n",
       "1                 4800000     2        Argentina  "
      ]
     },
     "execution_count": 206,
     "metadata": {},
     "output_type": "execute_result"
    }
   ],
   "source": [
    "column_index=[0,2,3,5,6,1,4]\n",
    "df=df[df.columns[[0,2,3,5,6,1,4]]]\n",
    "df.head(2)"
   ]
  },
  {
   "cell_type": "markdown",
   "id": "3d4505c6",
   "metadata": {},
   "source": [
    "# Analysis"
   ]
  },
  {
   "cell_type": "markdown",
   "id": "34fdfd79",
   "metadata": {},
   "source": [
    "# 1.How many influencers are in the dataset?"
   ]
  },
  {
   "cell_type": "code",
   "execution_count": 207,
   "id": "a3fcc967",
   "metadata": {},
   "outputs": [
    {
     "data": {
      "text/plain": [
       "1000"
      ]
     },
     "execution_count": 207,
     "metadata": {},
     "output_type": "execute_result"
    }
   ],
   "source": [
    "df.shape[0]"
   ]
  },
  {
   "cell_type": "markdown",
   "id": "20326856",
   "metadata": {},
   "source": [
    "Observation: This tells you how many influencers are being analyzed."
   ]
  },
  {
   "cell_type": "markdown",
   "metadata": {},
   "source": [
    "# 2.What are the top 5 most followed influencers?"
   ]
  },
  {
   "cell_type": "code",
   "execution_count": 208,
   "id": "3dfc47e8",
   "metadata": {},
   "outputs": [
    {
     "ename": "AttributeError",
     "evalue": "Can only use .str accessor with string values!",
     "output_type": "error",
     "traceback": [
      "\u001b[31m---------------------------------------------------------------------------\u001b[39m",
      "\u001b[31mAttributeError\u001b[39m                            Traceback (most recent call last)",
      "\u001b[36mCell\u001b[39m\u001b[36m \u001b[39m\u001b[32mIn[208]\u001b[39m\u001b[32m, line 1\u001b[39m\n\u001b[32m----> \u001b[39m\u001b[32m1\u001b[39m df[\u001b[33m'\u001b[39m\u001b[33mFollowers\u001b[39m\u001b[33m'\u001b[39m]=\u001b[43mdf\u001b[49m\u001b[43m[\u001b[49m\u001b[33;43m'\u001b[39;49m\u001b[33;43mFollowers\u001b[39;49m\u001b[33;43m'\u001b[39;49m\u001b[43m]\u001b[49m\u001b[43m.\u001b[49m\u001b[43mstr\u001b[49m.replace(\u001b[33m'\u001b[39m\u001b[33mM\u001b[39m\u001b[33m'\u001b[39m,\u001b[33m'\u001b[39m\u001b[33m'\u001b[39m).astype(\u001b[38;5;28mfloat\u001b[39m)\n\u001b[32m      2\u001b[39m df.sort_values(by=\u001b[33m'\u001b[39m\u001b[33mFollowers\u001b[39m\u001b[33m'\u001b[39m, ascending=\u001b[38;5;28;01mFalse\u001b[39;00m).head(\u001b[32m5\u001b[39m)[[\u001b[33m'\u001b[39m\u001b[33mUsers_Name\u001b[39m\u001b[33m'\u001b[39m,\u001b[33m'\u001b[39m\u001b[33mFollowers\u001b[39m\u001b[33m'\u001b[39m]]\n",
      "\u001b[36mFile \u001b[39m\u001b[32mc:\\Users\\Lucky Infotech\\AppData\\Local\\Programs\\Python\\Python312\\Lib\\site-packages\\pandas\\core\\generic.py:6299\u001b[39m, in \u001b[36mNDFrame.__getattr__\u001b[39m\u001b[34m(self, name)\u001b[39m\n\u001b[32m   6292\u001b[39m \u001b[38;5;28;01mif\u001b[39;00m (\n\u001b[32m   6293\u001b[39m     name \u001b[38;5;129;01mnot\u001b[39;00m \u001b[38;5;129;01min\u001b[39;00m \u001b[38;5;28mself\u001b[39m._internal_names_set\n\u001b[32m   6294\u001b[39m     \u001b[38;5;129;01mand\u001b[39;00m name \u001b[38;5;129;01mnot\u001b[39;00m \u001b[38;5;129;01min\u001b[39;00m \u001b[38;5;28mself\u001b[39m._metadata\n\u001b[32m   6295\u001b[39m     \u001b[38;5;129;01mand\u001b[39;00m name \u001b[38;5;129;01mnot\u001b[39;00m \u001b[38;5;129;01min\u001b[39;00m \u001b[38;5;28mself\u001b[39m._accessors\n\u001b[32m   6296\u001b[39m     \u001b[38;5;129;01mand\u001b[39;00m \u001b[38;5;28mself\u001b[39m._info_axis._can_hold_identifiers_and_holds_name(name)\n\u001b[32m   6297\u001b[39m ):\n\u001b[32m   6298\u001b[39m     \u001b[38;5;28;01mreturn\u001b[39;00m \u001b[38;5;28mself\u001b[39m[name]\n\u001b[32m-> \u001b[39m\u001b[32m6299\u001b[39m \u001b[38;5;28;01mreturn\u001b[39;00m \u001b[38;5;28;43mobject\u001b[39;49m\u001b[43m.\u001b[49m\u001b[34;43m__getattribute__\u001b[39;49m\u001b[43m(\u001b[49m\u001b[38;5;28;43mself\u001b[39;49m\u001b[43m,\u001b[49m\u001b[43m \u001b[49m\u001b[43mname\u001b[49m\u001b[43m)\u001b[49m\n",
      "\u001b[36mFile \u001b[39m\u001b[32mc:\\Users\\Lucky Infotech\\AppData\\Local\\Programs\\Python\\Python312\\Lib\\site-packages\\pandas\\core\\accessor.py:224\u001b[39m, in \u001b[36mCachedAccessor.__get__\u001b[39m\u001b[34m(self, obj, cls)\u001b[39m\n\u001b[32m    221\u001b[39m \u001b[38;5;28;01mif\u001b[39;00m obj \u001b[38;5;129;01mis\u001b[39;00m \u001b[38;5;28;01mNone\u001b[39;00m:\n\u001b[32m    222\u001b[39m     \u001b[38;5;66;03m# we're accessing the attribute of the class, i.e., Dataset.geo\u001b[39;00m\n\u001b[32m    223\u001b[39m     \u001b[38;5;28;01mreturn\u001b[39;00m \u001b[38;5;28mself\u001b[39m._accessor\n\u001b[32m--> \u001b[39m\u001b[32m224\u001b[39m accessor_obj = \u001b[38;5;28;43mself\u001b[39;49m\u001b[43m.\u001b[49m\u001b[43m_accessor\u001b[49m\u001b[43m(\u001b[49m\u001b[43mobj\u001b[49m\u001b[43m)\u001b[49m\n\u001b[32m    225\u001b[39m \u001b[38;5;66;03m# Replace the property with the accessor object. Inspired by:\u001b[39;00m\n\u001b[32m    226\u001b[39m \u001b[38;5;66;03m# https://www.pydanny.com/cached-property.html\u001b[39;00m\n\u001b[32m    227\u001b[39m \u001b[38;5;66;03m# We need to use object.__setattr__ because we overwrite __setattr__ on\u001b[39;00m\n\u001b[32m    228\u001b[39m \u001b[38;5;66;03m# NDFrame\u001b[39;00m\n\u001b[32m    229\u001b[39m \u001b[38;5;28mobject\u001b[39m.\u001b[34m__setattr__\u001b[39m(obj, \u001b[38;5;28mself\u001b[39m._name, accessor_obj)\n",
      "\u001b[36mFile \u001b[39m\u001b[32mc:\\Users\\Lucky Infotech\\AppData\\Local\\Programs\\Python\\Python312\\Lib\\site-packages\\pandas\\core\\strings\\accessor.py:191\u001b[39m, in \u001b[36mStringMethods.__init__\u001b[39m\u001b[34m(self, data)\u001b[39m\n\u001b[32m    188\u001b[39m \u001b[38;5;28;01mdef\u001b[39;00m\u001b[38;5;250m \u001b[39m\u001b[34m__init__\u001b[39m(\u001b[38;5;28mself\u001b[39m, data) -> \u001b[38;5;28;01mNone\u001b[39;00m:\n\u001b[32m    189\u001b[39m     \u001b[38;5;28;01mfrom\u001b[39;00m\u001b[38;5;250m \u001b[39m\u001b[34;01mpandas\u001b[39;00m\u001b[34;01m.\u001b[39;00m\u001b[34;01mcore\u001b[39;00m\u001b[34;01m.\u001b[39;00m\u001b[34;01marrays\u001b[39;00m\u001b[34;01m.\u001b[39;00m\u001b[34;01mstring_\u001b[39;00m\u001b[38;5;250m \u001b[39m\u001b[38;5;28;01mimport\u001b[39;00m StringDtype\n\u001b[32m--> \u001b[39m\u001b[32m191\u001b[39m     \u001b[38;5;28mself\u001b[39m._inferred_dtype = \u001b[38;5;28;43mself\u001b[39;49m\u001b[43m.\u001b[49m\u001b[43m_validate\u001b[49m\u001b[43m(\u001b[49m\u001b[43mdata\u001b[49m\u001b[43m)\u001b[49m\n\u001b[32m    192\u001b[39m     \u001b[38;5;28mself\u001b[39m._is_categorical = \u001b[38;5;28misinstance\u001b[39m(data.dtype, CategoricalDtype)\n\u001b[32m    193\u001b[39m     \u001b[38;5;28mself\u001b[39m._is_string = \u001b[38;5;28misinstance\u001b[39m(data.dtype, StringDtype)\n",
      "\u001b[36mFile \u001b[39m\u001b[32mc:\\Users\\Lucky Infotech\\AppData\\Local\\Programs\\Python\\Python312\\Lib\\site-packages\\pandas\\core\\strings\\accessor.py:245\u001b[39m, in \u001b[36mStringMethods._validate\u001b[39m\u001b[34m(data)\u001b[39m\n\u001b[32m    242\u001b[39m inferred_dtype = lib.infer_dtype(values, skipna=\u001b[38;5;28;01mTrue\u001b[39;00m)\n\u001b[32m    244\u001b[39m \u001b[38;5;28;01mif\u001b[39;00m inferred_dtype \u001b[38;5;129;01mnot\u001b[39;00m \u001b[38;5;129;01min\u001b[39;00m allowed_types:\n\u001b[32m--> \u001b[39m\u001b[32m245\u001b[39m     \u001b[38;5;28;01mraise\u001b[39;00m \u001b[38;5;167;01mAttributeError\u001b[39;00m(\u001b[33m\"\u001b[39m\u001b[33mCan only use .str accessor with string values!\u001b[39m\u001b[33m\"\u001b[39m)\n\u001b[32m    246\u001b[39m \u001b[38;5;28;01mreturn\u001b[39;00m inferred_dtype\n",
      "\u001b[31mAttributeError\u001b[39m: Can only use .str accessor with string values!"
     ]
    }
   ],
   "source": [
    "df['Followers']=df['Followers'].str.replace('M','').astype(float)\n",
    "df.sort_values(by='Followers', ascending=False).head(5)[['Users_Name','Followers']]"
   ]
  },
  {
   "cell_type": "markdown",
   "id": "917fd52b",
   "metadata": {},
   "source": [
    "Observation: Helps identify who dominates the platform in terms of follower count."
   ]
  },
  {
   "cell_type": "markdown",
   "metadata": {},
   "source": [
    "# 3.Which countries have the most influencers in this list?"
   ]
  },
  {
   "cell_type": "code",
   "execution_count": null,
   "id": "cbda06f6",
   "metadata": {},
   "outputs": [
    {
     "data": {
      "text/plain": [
       "Audience Country\n",
       "United States    277\n",
       "India            159\n",
       "Brazil           145\n",
       "Indonesia        136\n",
       "Mexico            40\n",
       "Name: count, dtype: int64"
      ]
     },
     "execution_count": 19,
     "metadata": {},
     "output_type": "execute_result"
    }
   ],
   "source": [
    "df['Audience Country'].value_counts().head()"
   ]
  },
  {
   "cell_type": "markdown",
   "id": "cbcaa811",
   "metadata": {},
   "source": [
    "Observation: Gives a regional breakdown—where most of the top influencers' audiences are from."
   ]
  },
  {
   "cell_type": "markdown",
   "metadata": {},
   "source": [
    "# 4.What is the average follower count of these influencers?"
   ]
  },
  {
   "cell_type": "code",
   "execution_count": null,
   "id": "a439fd19",
   "metadata": {},
   "outputs": [
    {
     "data": {
      "text/plain": [
       "np.float64(26.044600000000003)"
      ]
     },
     "execution_count": 20,
     "metadata": {},
     "output_type": "execute_result"
    }
   ],
   "source": [
    "df['Followers'].mean()"
   ]
  },
  {
   "cell_type": "markdown",
   "id": "65c3f5b2",
   "metadata": {},
   "source": [
    "Observation: Provides insight into the general popularity level of influencers on this list."
   ]
  },
  {
   "cell_type": "code",
   "execution_count": null,
   "id": "623acefc",
   "metadata": {},
   "outputs": [
    {
     "data": {
      "text/html": [
       "<div>\n",
       "<style scoped>\n",
       "    .dataframe tbody tr th:only-of-type {\n",
       "        vertical-align: middle;\n",
       "    }\n",
       "\n",
       "    .dataframe tbody tr th {\n",
       "        vertical-align: top;\n",
       "    }\n",
       "\n",
       "    .dataframe thead th {\n",
       "        text-align: right;\n",
       "    }\n",
       "</style>\n",
       "<table border=\"1\" class=\"dataframe\">\n",
       "  <thead>\n",
       "    <tr style=\"text-align: right;\">\n",
       "      <th></th>\n",
       "      <th>Users_Name</th>\n",
       "      <th>Category</th>\n",
       "      <th>Followers</th>\n",
       "      <th>Real_Audience_Interaction</th>\n",
       "      <th>People_Interaction_Avg</th>\n",
       "      <th>Rank</th>\n",
       "      <th>Audience Country</th>\n",
       "    </tr>\n",
       "  </thead>\n",
       "  <tbody>\n",
       "  </tbody>\n",
       "</table>\n",
       "</div>"
      ],
      "text/plain": [
       "Empty DataFrame\n",
       "Columns: [Users_Name, Category, Followers, Real_Audience_Interaction, People_Interaction_Avg, Rank, Audience Country]\n",
       "Index: []"
      ]
     },
     "execution_count": 21,
     "metadata": {},
     "output_type": "execute_result"
    }
   ],
   "source": [
    "df.head(0)"
   ]
  },
  {
   "cell_type": "markdown",
   "id": "da994391",
   "metadata": {},
   "source": [
    "# 5.Which category appears most frequently?"
   ]
  },
  {
   "cell_type": "code",
   "execution_count": null,
   "id": "1143f942",
   "metadata": {},
   "outputs": [
    {
     "data": {
      "text/plain": [
       "'Music'"
      ]
     },
     "execution_count": 22,
     "metadata": {},
     "output_type": "execute_result"
    }
   ],
   "source": [
    "df['Category'].value_counts().idxmax()"
   ]
  },
  {
   "cell_type": "markdown",
   "id": "16f8673a",
   "metadata": {},
   "source": [
    "# 6.Who is the top-ranked Instagrammer?"
   ]
  },
  {
   "cell_type": "code",
   "execution_count": null,
   "id": "41943a80",
   "metadata": {},
   "outputs": [
    {
     "data": {
      "text/html": [
       "<div>\n",
       "<style scoped>\n",
       "    .dataframe tbody tr th:only-of-type {\n",
       "        vertical-align: middle;\n",
       "    }\n",
       "\n",
       "    .dataframe tbody tr th {\n",
       "        vertical-align: top;\n",
       "    }\n",
       "\n",
       "    .dataframe thead th {\n",
       "        text-align: right;\n",
       "    }\n",
       "</style>\n",
       "<table border=\"1\" class=\"dataframe\">\n",
       "  <thead>\n",
       "    <tr style=\"text-align: right;\">\n",
       "      <th></th>\n",
       "      <th>Users_Name</th>\n",
       "      <th>Followers</th>\n",
       "      <th>Real_Audience_Interaction</th>\n",
       "      <th>People_Interaction_Avg</th>\n",
       "    </tr>\n",
       "  </thead>\n",
       "  <tbody>\n",
       "    <tr>\n",
       "      <th>0</th>\n",
       "      <td>cristiano</td>\n",
       "      <td>462.9</td>\n",
       "      <td>5500000</td>\n",
       "      <td>6600000</td>\n",
       "    </tr>\n",
       "  </tbody>\n",
       "</table>\n",
       "</div>"
      ],
      "text/plain": [
       "  Users_Name  Followers  Real_Audience_Interaction  People_Interaction_Avg\n",
       "0  cristiano      462.9                    5500000                 6600000"
      ]
     },
     "execution_count": 23,
     "metadata": {},
     "output_type": "execute_result"
    }
   ],
   "source": [
    "top_ranked=df[df['Rank']==1]\n",
    "top_ranked[['Users_Name','Followers','Real_Audience_Interaction','People_Interaction_Avg']]"
   ]
  },
  {
   "cell_type": "markdown",
   "id": "f0ed4f00",
   "metadata": {},
   "source": [
    "Observation: He has the highest follower count at 462.9M and the highest engagement too."
   ]
  },
  {
   "cell_type": "markdown",
   "id": "bb19867c",
   "metadata": {},
   "source": [
    "# 7.What category does kendalljenner belong to?"
   ]
  },
  {
   "cell_type": "code",
   "execution_count": null,
   "id": "6417147c",
   "metadata": {},
   "outputs": [
    {
     "data": {
      "text/plain": [
       "'ModelingFashion'"
      ]
     },
     "execution_count": 24,
     "metadata": {},
     "output_type": "execute_result"
    }
   ],
   "source": [
    "kendall_category=df[df['Users_Name']=='kendalljenner']['Category'].values[0]\n",
    "kendall_category"
   ]
  },
  {
   "cell_type": "markdown",
   "id": "21e0ac58",
   "metadata": {},
   "source": [
    "Observation: Kendall Jenner is in the modeling and fashion category with 247.6M followers, and her main audience is from the United States."
   ]
  },
  {
   "cell_type": "markdown",
   "id": "be064232",
   "metadata": {},
   "source": [
    "# 8.Which influencer has the main audience in Argentina?"
   ]
  },
  {
   "cell_type": "code",
   "execution_count": null,
   "id": "ad14551c",
   "metadata": {},
   "outputs": [
    {
     "data": {
      "text/html": [
       "<div>\n",
       "<style scoped>\n",
       "    .dataframe tbody tr th:only-of-type {\n",
       "        vertical-align: middle;\n",
       "    }\n",
       "\n",
       "    .dataframe tbody tr th {\n",
       "        vertical-align: top;\n",
       "    }\n",
       "\n",
       "    .dataframe thead th {\n",
       "        text-align: right;\n",
       "    }\n",
       "</style>\n",
       "<table border=\"1\" class=\"dataframe\">\n",
       "  <thead>\n",
       "    <tr style=\"text-align: right;\">\n",
       "      <th></th>\n",
       "      <th>Users_Name</th>\n",
       "      <th>Rank</th>\n",
       "      <th>Followers</th>\n",
       "    </tr>\n",
       "  </thead>\n",
       "  <tbody>\n",
       "    <tr>\n",
       "      <th>1</th>\n",
       "      <td>leomessi</td>\n",
       "      <td>2</td>\n",
       "      <td>347.2</td>\n",
       "    </tr>\n",
       "    <tr>\n",
       "      <th>76</th>\n",
       "      <td>paulodybala</td>\n",
       "      <td>77</td>\n",
       "      <td>47.7</td>\n",
       "    </tr>\n",
       "  </tbody>\n",
       "</table>\n",
       "</div>"
      ],
      "text/plain": [
       "     Users_Name  Rank  Followers\n",
       "1      leomessi     2      347.2\n",
       "76  paulodybala    77       47.7"
      ]
     },
     "execution_count": 25,
     "metadata": {},
     "output_type": "execute_result"
    }
   ],
   "source": [
    "argentina_influencers = df[df['Audience Country'] == 'Argentina']\n",
    "argentina_influencers[['Users_Name', 'Rank', 'Followers']].head(2)"
   ]
  },
  {
   "cell_type": "markdown",
   "id": "50869fcb",
   "metadata": {},
   "source": [
    "Observation: As an Argentinian footballer, it makes sense that his largest audience is from Argentina, and he ranks 2nd overall."
   ]
  },
  {
   "cell_type": "markdown",
   "id": "584dbce2",
   "metadata": {},
   "source": [
    "# 9.How many influencers are from the \"Music\" category among the top 5?"
   ]
  },
  {
   "cell_type": "code",
   "execution_count": null,
   "id": "54b35581",
   "metadata": {},
   "outputs": [
    {
     "data": {
      "text/plain": [
       "np.int64(1)"
      ]
     },
     "execution_count": 26,
     "metadata": {},
     "output_type": "execute_result"
    }
   ],
   "source": [
    "top5_music=df.head(5)\n",
    "top5_music['Category'].str.contains('Music').sum()"
   ]
  },
  {
   "cell_type": "markdown",
   "id": "3eba3807",
   "metadata": {},
   "source": [
    "Observation: While music is a popular category, other categories like sports and fashion dominate the top 5."
   ]
  },
  {
   "cell_type": "markdown",
   "id": "cb399234",
   "metadata": {},
   "source": [
    "# 10.What is the average engagement for zendaya?"
   ]
  },
  {
   "cell_type": "code",
   "execution_count": null,
   "id": "daeab733",
   "metadata": {},
   "outputs": [
    {
     "data": {
      "text/plain": [
       "np.float64(5800000.0)"
      ]
     },
     "execution_count": 27,
     "metadata": {},
     "output_type": "execute_result"
    }
   ],
   "source": [
    "df[df['Users_Name']=='zendaya']['People_Interaction_Avg'].mean()"
   ]
  },
  {
   "cell_type": "markdown",
   "id": "a7d3a872",
   "metadata": {},
   "source": [
    "Observation: Zendaya has a strong engagement rate relative to her 147M followers, showing a highly active fanbase."
   ]
  },
  {
   "cell_type": "markdown",
   "id": "8f79410b",
   "metadata": {},
   "source": [
    "# 11.What is the average number of influencers per audience country?"
   ]
  },
  {
   "cell_type": "code",
   "execution_count": null,
   "id": "5d183d2e",
   "metadata": {},
   "outputs": [
    {
     "data": {
      "text/plain": [
       "Audience Country\n",
       "United States    277\n",
       "India            159\n",
       "Brazil           145\n",
       "Indonesia        136\n",
       "Mexico            40\n",
       "Spain             34\n",
       "Russia            26\n",
       "Argentina         23\n",
       "Iran              21\n",
       "Turkey            20\n",
       "Name: Users_Name, dtype: int64"
      ]
     },
     "execution_count": 28,
     "metadata": {},
     "output_type": "execute_result"
    }
   ],
   "source": [
    "country_gp = df.groupby('Audience Country')['Users_Name'].count().sort_values(ascending=False)\n",
    "country_gp.head(10)"
   ]
  },
  {
   "cell_type": "markdown",
   "id": "6e8f3e9c",
   "metadata": {},
   "source": [
    "Observation: This helps identify which countries have the most top Instagram influencers."
   ]
  },
  {
   "cell_type": "markdown",
   "id": "c1972181",
   "metadata": {},
   "source": [
    "# 12.What is the average rank of influencers per category?"
   ]
  },
  {
   "cell_type": "code",
   "execution_count": null,
   "id": "a713f00b",
   "metadata": {},
   "outputs": [
    {
     "data": {
      "text/plain": [
       "Category\n",
       "FashionBeauty                                  6.0\n",
       "FashionModelingBeauty                          8.0\n",
       "MusicBeauty                                   20.0\n",
       "Art/ArtistsCinema & Actors/actressesMusic     26.0\n",
       "Cinema & Actors/actressesFitness & Gym        41.0\n",
       "LifestyleFashionClothing & Outfits            43.0\n",
       "Clothing & OutfitsLifestyle                   44.0\n",
       "ModelingLifestyleBeauty                       81.0\n",
       "BeautyArt/ArtistsCinema & Actors/actresses    87.0\n",
       "Sports with a ballFamily                      92.0\n",
       "Name: Rank, dtype: float64"
      ]
     },
     "execution_count": 29,
     "metadata": {},
     "output_type": "execute_result"
    }
   ],
   "source": [
    "avg_rank=df.groupby('Category')['Rank'].mean().sort_values()\n",
    "avg_rank.head(10)"
   ]
  },
  {
   "cell_type": "markdown",
   "id": "f893a60d",
   "metadata": {},
   "source": [
    "Observation: This shows which content categories tend to rank higher on Instagram."
   ]
  },
  {
   "cell_type": "markdown",
   "id": "a398ec5e",
   "metadata": {},
   "source": [
    "# Plots"
   ]
  },
  {
   "cell_type": "markdown",
   "id": "3f054e8f",
   "metadata": {},
   "source": [
    "# 1.Top 10 Categories of Influencers(bar plot)"
   ]
  },
  {
   "cell_type": "code",
   "execution_count": null,
   "id": "ce9df9e7",
   "metadata": {},
   "outputs": [],
   "source": [
    "# plt.figure(figsize=(5,3))\n",
    "# df['Category'].value_counts().nlargest(10).plot(kind='bar', title='Top 10 Influencer Categories')"
   ]
  },
  {
   "cell_type": "code",
   "execution_count": null,
   "id": "79b5bc6e",
   "metadata": {},
   "outputs": [],
   "source": [
    "df_ctg=df['Category'].value_counts().nlargest(10)"
   ]
  },
  {
   "cell_type": "code",
   "execution_count": null,
   "id": "679aae17",
   "metadata": {},
   "outputs": [
    {
     "data": {
      "text/plain": [
       "Text(0.5, 1.0, 'Top 10 Influencer Categories')"
      ]
     },
     "execution_count": 167,
     "metadata": {},
     "output_type": "execute_result"
    },
    {
     "data": {
      "image/png": "[encoded data removed]",
      "text/plain": [
       "<Figure size 600x300 with 1 Axes>"
      ]
     },
     "metadata": {},
     "output_type": "display_data"
    }
   ],
   "source": [
    "plt.figure(figsize=(6,3))\n",
    "sns.barplot(x=df_ctg.index,y=df_ctg.values)\n",
    "plt.title('Top 10 Influencer Categories')"
   ]
  },
  {
   "cell_type": "markdown",
   "id": "82a96656",
   "metadata": {},
   "source": [
    "Observation:\n",
    "You’ll likely see categories like Fashion, Music, Modeling, and Sports dominating. This tells you which niches are the most popular among high-ranked Instagrammers."
   ]
  },
  {
   "cell_type": "markdown",
   "id": "c1a10581",
   "metadata": {},
   "source": [
    "# 2.Top 10 Audience Countries(bar plot)"
   ]
  },
  {
   "cell_type": "code",
   "execution_count": null,
   "id": "f24f0ab7",
   "metadata": {},
   "outputs": [],
   "source": [
    "# df['Audience Country'].value_counts().nlargest(10).plot(kind='bar', title='Top 10 Audience Countries')\n",
    "#------------------------or---------------------------------------"
   ]
  },
  {
   "cell_type": "code",
   "execution_count": null,
   "id": "9508276f",
   "metadata": {},
   "outputs": [],
   "source": [
    "top10_audi=df['Audience Country'].value_counts().nlargest(10)"
   ]
  },
  {
   "cell_type": "code",
   "execution_count": null,
   "id": "807c7c8c",
   "metadata": {},
   "outputs": [
    {
     "data": {
      "text/plain": [
       "<Axes: xlabel='Audience Country'>"
      ]
     },
     "execution_count": 169,
     "metadata": {},
     "output_type": "execute_result"
    },
    {
     "data": {
      "image/png": "[encoded data removed]",
      "text/plain": [
       "<Figure size 600x300 with 1 Axes>"
      ]
     },
     "metadata": {},
     "output_type": "display_data"
    }
   ],
   "source": [
    "plt.figure(figsize=(6,3))\n",
    "sns.barplot(x=top10_audi.index,y=top10_audi.values)"
   ]
  },
  {
   "cell_type": "markdown",
   "id": "f26d4417",
   "metadata": {},
   "source": [
    "Observation:\n",
    "Countries like India, USA, and Brazil often top this list. This highlights the countries with the most active Instagram user bases."
   ]
  },
  {
   "cell_type": "markdown",
   "id": "3ebe3ece",
   "metadata": {},
   "source": [
    "# 3.Followers Distribution (hist plot)"
   ]
  },
  {
   "cell_type": "code",
   "execution_count": null,
   "id": "2eec85ec",
   "metadata": {},
   "outputs": [],
   "source": [
    "# df['Followers'].plot(kind='hist', bins=30, title='Distribution of Followers', edgecolor='black')"
   ]
  },
  {
   "cell_type": "code",
   "execution_count": null,
   "id": "e29aee6e",
   "metadata": {},
   "outputs": [
    {
     "data": {
      "text/plain": [
       "Text(0.5, 1.0, 'Distribution of Followers')"
      ]
     },
     "execution_count": 37,
     "metadata": {},
     "output_type": "execute_result"
    },
    {
     "data": {
      "image/png": "[encoded data removed]",
      "text/plain": [
       "<Figure size 600x300 with 1 Axes>"
      ]
     },
     "metadata": {},
     "output_type": "display_data"
    }
   ],
   "source": [
    "plt.figure(figsize=(6,3))\n",
    "sns.histplot(data=df,x='Followers',bins=30)\n",
    "plt.title('Distribution of Followers')"
   ]
  },
  {
   "cell_type": "markdown",
   "id": "c2e39f89",
   "metadata": {},
   "source": [
    "Observation:\n",
    "You’ll probably see a right-skewed distribution – most influencers have under 100M followers, and very few mega-celebrities sit at the top with hundreds of millions"
   ]
  },
  {
   "cell_type": "markdown",
   "id": "e6dbdad1",
   "metadata": {},
   "source": [
    "# 4.Followers vs Engagement (scatter plot)"
   ]
  },
  {
   "cell_type": "code",
   "execution_count": null,
   "id": "bd0e4251",
   "metadata": {},
   "outputs": [
    {
     "data": {
      "text/plain": [
       "Index(['Users_Name', 'Category', 'Followers', 'Real_Audience_Interaction',\n",
       "       'People_Interaction_Avg', 'Rank', 'Audience Country'],\n",
       "      dtype='object')"
      ]
     },
     "execution_count": 38,
     "metadata": {},
     "output_type": "execute_result"
    }
   ],
   "source": [
    "df.columns"
   ]
  },
  {
   "cell_type": "code",
   "execution_count": null,
   "id": "12ae0a48",
   "metadata": {},
   "outputs": [],
   "source": [
    "# plt.figure(figsize=(2,2))\n",
    "# df.plot.scatter(x='Followers', y='Real_Audience_Interaction', alpha=0.5, title='Followers vs Real_Audience_Interaction')"
   ]
  },
  {
   "cell_type": "code",
   "execution_count": null,
   "id": "adbc1dd3",
   "metadata": {},
   "outputs": [
    {
     "data": {
      "text/plain": [
       "Text(0.5, 1.0, 'Followers vs Real_Audience_Interaction')"
      ]
     },
     "execution_count": 40,
     "metadata": {},
     "output_type": "execute_result"
    },
    {
     "data": {
      "image/png": "[encoded data removed]",
      "text/plain": [
       "<Figure size 600x300 with 1 Axes>"
      ]
     },
     "metadata": {},
     "output_type": "display_data"
    }
   ],
   "source": [
    "plt.figure(figsize=(6,3))\n",
    "sns.scatterplot(data=df,x='Followers',y='Real_Audience_Interaction')\n",
    "plt.title('Followers vs Real_Audience_Interaction')"
   ]
  },
  {
   "cell_type": "code",
   "execution_count": null,
   "id": "b8cde4be",
   "metadata": {},
   "outputs": [
    {
     "data": {
      "text/plain": [
       "Index(['Users_Name', 'Category', 'Followers', 'Real_Audience_Interaction',\n",
       "       'People_Interaction_Avg', 'Rank', 'Audience Country'],\n",
       "      dtype='object')"
      ]
     },
     "execution_count": 170,
     "metadata": {},
     "output_type": "execute_result"
    }
   ],
   "source": [
    "df.columns"
   ]
  },
  {
   "cell_type": "code",
   "execution_count": null,
   "id": "2cbcc2cf",
   "metadata": {},
   "outputs": [],
   "source": []
  },
  {
   "cell_type": "markdown",
   "id": "afb9047d",
   "metadata": {},
   "source": [
    "Observation:\n",
    "Expect to see that engagement(People_Interaction_Avg) does not always scale with followers – many smaller influencers have more authentic engagement(Real_Audience_Interaction) relative to their size. This suggests nano- and micro-influencers might be more \"real\" in their influence."
   ]
  },
  {
   "cell_type": "markdown",
   "id": "05813fcb",
   "metadata": {},
   "source": [
    "# Final Analysis Conclusion for Instagram Dataset"
   ]
  },
  {
   "cell_type": "markdown",
   "id": "74df4ee3",
   "metadata": {},
   "source": [
    "1. Influencer size doesn’t always mean higher engagement.\n",
    "Micro and mid-tier influencers often have better engagement rates than mega influencers, which suggests brands should consider quality over follower count.\n",
    "\n",
    "2. Certain content categories perform better.\n",
    "Categories like Fashion, Fitness, and Beauty consistently rank higher in engagement and post frequency, highlighting niche effectiveness.\n",
    "\n",
    "3. Engagement rate tends to drop as follower count increases.\n",
    "This pattern reveals a trade-off between reach and interaction, common in social media growth patterns.\n",
    "\n",
    "4. Consistency and posting frequency matter.\n",
    "Influencers who post regularly and engage with followers tend to maintain stronger growth and loyalty from their audience."
   ]
  }
 ],
 "metadata": {
  "kernelspec": {
   "display_name": "Python 3",
   "language": "python",
   "name": "python3"
  },
  "language_info": {
   "codemirror_mode": {
    "name": "ipython",
    "version": 3
   },
   "file_extension": ".py",
   "mimetype": "text/x-python",
   "name": "python",
   "nbconvert_exporter": "python",
   "pygments_lexer": "ipython3",
   "version": "3.12.3"
  }
 },
 "nbformat": 4,
 "nbformat_minor": 5
}
