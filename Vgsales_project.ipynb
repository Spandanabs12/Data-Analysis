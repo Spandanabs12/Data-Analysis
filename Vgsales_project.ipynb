{
 "cells": [
  {
   "cell_type": "markdown",
   "id": "634826e3",
   "metadata": {},
   "source": [
    "# Importing Libraries"
   ]
  },
  {
   "cell_type": "code",
   "execution_count": 482,
   "id": "3c9d1c0c",
   "metadata": {},
   "outputs": [],
   "source": [
    "import numpy as np\n",
    "import pandas as pd\n",
    "import matplotlib.pyplot as plt\n",
    "import seaborn as sns"
   ]
  },
  {
   "cell_type": "markdown",
   "id": "b778e0cc",
   "metadata": {},
   "source": [
    "# Loading the dataset"
   ]
  },
  {
   "cell_type": "code",
   "execution_count": 483,
   "id": "e0211908",
   "metadata": {},
   "outputs": [
    {
     "data": {
      "text/html": [
       "<div>\n",
       "<style scoped>\n",
       "    .dataframe tbody tr th:only-of-type {\n",
       "        vertical-align: middle;\n",
       "    }\n",
       "\n",
       "    .dataframe tbody tr th {\n",
       "        vertical-align: top;\n",
       "    }\n",
       "\n",
       "    .dataframe thead th {\n",
       "        text-align: right;\n",
       "    }\n",
       "</style>\n",
       "<table border=\"1\" class=\"dataframe\">\n",
       "  <thead>\n",
       "    <tr style=\"text-align: right;\">\n",
       "      <th></th>\n",
       "      <th>Rank</th>\n",
       "      <th>Name</th>\n",
       "      <th>Platform</th>\n",
       "      <th>Year</th>\n",
       "      <th>Genre</th>\n",
       "      <th>Publisher</th>\n",
       "      <th>NA_Sales</th>\n",
       "      <th>EU_Sales</th>\n",
       "      <th>JP_Sales</th>\n",
       "      <th>Other_Sales</th>\n",
       "      <th>Global_Sales</th>\n",
       "    </tr>\n",
       "  </thead>\n",
       "  <tbody>\n",
       "    <tr>\n",
       "      <th>0</th>\n",
       "      <td>1</td>\n",
       "      <td>Wii Sports</td>\n",
       "      <td>Wii</td>\n",
       "      <td>2006.0</td>\n",
       "      <td>Sports</td>\n",
       "      <td>Nintendo</td>\n",
       "      <td>41.49</td>\n",
       "      <td>29.02</td>\n",
       "      <td>3.77</td>\n",
       "      <td>8.46</td>\n",
       "      <td>82.74</td>\n",
       "    </tr>\n",
       "    <tr>\n",
       "      <th>1</th>\n",
       "      <td>2</td>\n",
       "      <td>Super Mario Bros.</td>\n",
       "      <td>NES</td>\n",
       "      <td>1985.0</td>\n",
       "      <td>Platform</td>\n",
       "      <td>Nintendo</td>\n",
       "      <td>29.08</td>\n",
       "      <td>3.58</td>\n",
       "      <td>6.81</td>\n",
       "      <td>0.77</td>\n",
       "      <td>40.24</td>\n",
       "    </tr>\n",
       "    <tr>\n",
       "      <th>2</th>\n",
       "      <td>3</td>\n",
       "      <td>Mario Kart Wii</td>\n",
       "      <td>Wii</td>\n",
       "      <td>2008.0</td>\n",
       "      <td>Racing</td>\n",
       "      <td>Nintendo</td>\n",
       "      <td>15.85</td>\n",
       "      <td>12.88</td>\n",
       "      <td>3.79</td>\n",
       "      <td>3.31</td>\n",
       "      <td>35.82</td>\n",
       "    </tr>\n",
       "    <tr>\n",
       "      <th>3</th>\n",
       "      <td>4</td>\n",
       "      <td>Wii Sports Resort</td>\n",
       "      <td>Wii</td>\n",
       "      <td>2009.0</td>\n",
       "      <td>Sports</td>\n",
       "      <td>Nintendo</td>\n",
       "      <td>15.75</td>\n",
       "      <td>11.01</td>\n",
       "      <td>3.28</td>\n",
       "      <td>2.96</td>\n",
       "      <td>33.00</td>\n",
       "    </tr>\n",
       "    <tr>\n",
       "      <th>4</th>\n",
       "      <td>5</td>\n",
       "      <td>Pokemon Red/Pokemon Blue</td>\n",
       "      <td>GB</td>\n",
       "      <td>1996.0</td>\n",
       "      <td>Role-Playing</td>\n",
       "      <td>Nintendo</td>\n",
       "      <td>11.27</td>\n",
       "      <td>8.89</td>\n",
       "      <td>10.22</td>\n",
       "      <td>1.00</td>\n",
       "      <td>31.37</td>\n",
       "    </tr>\n",
       "    <tr>\n",
       "      <th>...</th>\n",
       "      <td>...</td>\n",
       "      <td>...</td>\n",
       "      <td>...</td>\n",
       "      <td>...</td>\n",
       "      <td>...</td>\n",
       "      <td>...</td>\n",
       "      <td>...</td>\n",
       "      <td>...</td>\n",
       "      <td>...</td>\n",
       "      <td>...</td>\n",
       "      <td>...</td>\n",
       "    </tr>\n",
       "    <tr>\n",
       "      <th>16593</th>\n",
       "      <td>16596</td>\n",
       "      <td>Woody Woodpecker in Crazy Castle 5</td>\n",
       "      <td>GBA</td>\n",
       "      <td>2002.0</td>\n",
       "      <td>Platform</td>\n",
       "      <td>Kemco</td>\n",
       "      <td>0.01</td>\n",
       "      <td>0.00</td>\n",
       "      <td>0.00</td>\n",
       "      <td>0.00</td>\n",
       "      <td>0.01</td>\n",
       "    </tr>\n",
       "    <tr>\n",
       "      <th>16594</th>\n",
       "      <td>16597</td>\n",
       "      <td>Men in Black II: Alien Escape</td>\n",
       "      <td>GC</td>\n",
       "      <td>2003.0</td>\n",
       "      <td>Shooter</td>\n",
       "      <td>Infogrames</td>\n",
       "      <td>0.01</td>\n",
       "      <td>0.00</td>\n",
       "      <td>0.00</td>\n",
       "      <td>0.00</td>\n",
       "      <td>0.01</td>\n",
       "    </tr>\n",
       "    <tr>\n",
       "      <th>16595</th>\n",
       "      <td>16598</td>\n",
       "      <td>SCORE International Baja 1000: The Official Game</td>\n",
       "      <td>PS2</td>\n",
       "      <td>2008.0</td>\n",
       "      <td>Racing</td>\n",
       "      <td>Activision</td>\n",
       "      <td>0.00</td>\n",
       "      <td>0.00</td>\n",
       "      <td>0.00</td>\n",
       "      <td>0.00</td>\n",
       "      <td>0.01</td>\n",
       "    </tr>\n",
       "    <tr>\n",
       "      <th>16596</th>\n",
       "      <td>16599</td>\n",
       "      <td>Know How 2</td>\n",
       "      <td>DS</td>\n",
       "      <td>2010.0</td>\n",
       "      <td>Puzzle</td>\n",
       "      <td>7G//AMES</td>\n",
       "      <td>0.00</td>\n",
       "      <td>0.01</td>\n",
       "      <td>0.00</td>\n",
       "      <td>0.00</td>\n",
       "      <td>0.01</td>\n",
       "    </tr>\n",
       "    <tr>\n",
       "      <th>16597</th>\n",
       "      <td>16600</td>\n",
       "      <td>Spirits &amp; Spells</td>\n",
       "      <td>GBA</td>\n",
       "      <td>2003.0</td>\n",
       "      <td>Platform</td>\n",
       "      <td>Wanadoo</td>\n",
       "      <td>0.01</td>\n",
       "      <td>0.00</td>\n",
       "      <td>0.00</td>\n",
       "      <td>0.00</td>\n",
       "      <td>0.01</td>\n",
       "    </tr>\n",
       "  </tbody>\n",
       "</table>\n",
       "<p>16598 rows × 11 columns</p>\n",
       "</div>"
      ],
      "text/plain": [
       "        Rank                                              Name Platform  \\\n",
       "0          1                                        Wii Sports      Wii   \n",
       "1          2                                 Super Mario Bros.      NES   \n",
       "2          3                                    Mario Kart Wii      Wii   \n",
       "3          4                                 Wii Sports Resort      Wii   \n",
       "4          5                          Pokemon Red/Pokemon Blue       GB   \n",
       "...      ...                                               ...      ...   \n",
       "16593  16596                Woody Woodpecker in Crazy Castle 5      GBA   \n",
       "16594  16597                     Men in Black II: Alien Escape       GC   \n",
       "16595  16598  SCORE International Baja 1000: The Official Game      PS2   \n",
       "16596  16599                                        Know How 2       DS   \n",
       "16597  16600                                  Spirits & Spells      GBA   \n",
       "\n",
       "         Year         Genre   Publisher  NA_Sales  EU_Sales  JP_Sales  \\\n",
       "0      2006.0        Sports    Nintendo     41.49     29.02      3.77   \n",
       "1      1985.0      Platform    Nintendo     29.08      3.58      6.81   \n",
       "2      2008.0        Racing    Nintendo     15.85     12.88      3.79   \n",
       "3      2009.0        Sports    Nintendo     15.75     11.01      3.28   \n",
       "4      1996.0  Role-Playing    Nintendo     11.27      8.89     10.22   \n",
       "...       ...           ...         ...       ...       ...       ...   \n",
       "16593  2002.0      Platform       Kemco      0.01      0.00      0.00   \n",
       "16594  2003.0       Shooter  Infogrames      0.01      0.00      0.00   \n",
       "16595  2008.0        Racing  Activision      0.00      0.00      0.00   \n",
       "16596  2010.0        Puzzle    7G//AMES      0.00      0.01      0.00   \n",
       "16597  2003.0      Platform     Wanadoo      0.01      0.00      0.00   \n",
       "\n",
       "       Other_Sales  Global_Sales  \n",
       "0             8.46         82.74  \n",
       "1             0.77         40.24  \n",
       "2             3.31         35.82  \n",
       "3             2.96         33.00  \n",
       "4             1.00         31.37  \n",
       "...            ...           ...  \n",
       "16593         0.00          0.01  \n",
       "16594         0.00          0.01  \n",
       "16595         0.00          0.01  \n",
       "16596         0.00          0.01  \n",
       "16597         0.00          0.01  \n",
       "\n",
       "[16598 rows x 11 columns]"
      ]
     },
     "execution_count": 483,
     "metadata": {},
     "output_type": "execute_result"
    }
   ],
   "source": [
    "df=pd.read_csv('vgsales.csv')\n",
    "df"
   ]
  },
  {
   "cell_type": "markdown",
   "id": "19df66af",
   "metadata": {},
   "source": [
    "# Understanding the Dataset"
   ]
  },
  {
   "cell_type": "code",
   "execution_count": 484,
   "id": "f1a707e0",
   "metadata": {},
   "outputs": [
    {
     "data": {
      "text/plain": [
       "Index(['Rank', 'Name', 'Platform', 'Year', 'Genre', 'Publisher', 'NA_Sales',\n",
       "       'EU_Sales', 'JP_Sales', 'Other_Sales', 'Global_Sales'],\n",
       "      dtype='object')"
      ]
     },
     "execution_count": 484,
     "metadata": {},
     "output_type": "execute_result"
    }
   ],
   "source": [
    "df.columns"
   ]
  },
  {
   "cell_type": "markdown",
   "id": "f84831ab",
   "metadata": {},
   "source": [
    "# Dataset info"
   ]
  },
  {
   "cell_type": "code",
   "execution_count": 485,
   "id": "c9354051",
   "metadata": {},
   "outputs": [
    {
     "name": "stdout",
     "output_type": "stream",
     "text": [
      "<class 'pandas.core.frame.DataFrame'>\n",
      "RangeIndex: 16598 entries, 0 to 16597\n",
      "Data columns (total 11 columns):\n",
      " #   Column        Non-Null Count  Dtype  \n",
      "---  ------        --------------  -----  \n",
      " 0   Rank          16598 non-null  int64  \n",
      " 1   Name          16598 non-null  object \n",
      " 2   Platform      16598 non-null  object \n",
      " 3   Year          16327 non-null  float64\n",
      " 4   Genre         16598 non-null  object \n",
      " 5   Publisher     16540 non-null  object \n",
      " 6   NA_Sales      16598 non-null  float64\n",
      " 7   EU_Sales      16598 non-null  float64\n",
      " 8   JP_Sales      16598 non-null  float64\n",
      " 9   Other_Sales   16598 non-null  float64\n",
      " 10  Global_Sales  16598 non-null  float64\n",
      "dtypes: float64(6), int64(1), object(4)\n",
      "memory usage: 1.4+ MB\n"
     ]
    }
   ],
   "source": [
    "df.info()"
   ]
  },
  {
   "cell_type": "markdown",
   "id": "131c5f61",
   "metadata": {},
   "source": [
    "# Checking how many null values you have"
   ]
  },
  {
   "cell_type": "code",
   "execution_count": 486,
   "id": "c011cba0",
   "metadata": {},
   "outputs": [
    {
     "data": {
      "text/plain": [
       "Rank              0\n",
       "Name              0\n",
       "Platform          0\n",
       "Year            271\n",
       "Genre             0\n",
       "Publisher        58\n",
       "NA_Sales          0\n",
       "EU_Sales          0\n",
       "JP_Sales          0\n",
       "Other_Sales       0\n",
       "Global_Sales      0\n",
       "dtype: int64"
      ]
     },
     "execution_count": 486,
     "metadata": {},
     "output_type": "execute_result"
    }
   ],
   "source": [
    "df.isnull().sum()"
   ]
  },
  {
   "cell_type": "markdown",
   "id": "919b8a2f",
   "metadata": {},
   "source": [
    "Observation:\n",
    "Some columns like Year and Publisher may have missing values. These need to be either filled (e.g., with median or mode) or dropped, depending on analysis goals."
   ]
  },
  {
   "cell_type": "markdown",
   "id": "b288c435",
   "metadata": {},
   "source": [
    "# Data Cleaning"
   ]
  },
  {
   "cell_type": "markdown",
   "id": "521b52a2",
   "metadata": {},
   "source": [
    "# 1.Drop rows with NaN in 'Year'"
   ]
  },
  {
   "cell_type": "code",
   "execution_count": 487,
   "id": "ad167427",
   "metadata": {},
   "outputs": [],
   "source": [
    "df = df.dropna(subset=['Year']) # subset= parameter mostly in functions like dropna(), drop_duplicates(), and some others to limit the operation to specific columns instead of the entire DataFrame."
   ]
  },
  {
   "cell_type": "markdown",
   "id": "5882bde2",
   "metadata": {},
   "source": [
    "# 1. To convert float to int"
   ]
  },
  {
   "cell_type": "code",
   "execution_count": 488,
   "id": "390e106d",
   "metadata": {},
   "outputs": [
    {
     "data": {
      "text/plain": [
       "dtype('float64')"
      ]
     },
     "execution_count": 488,
     "metadata": {},
     "output_type": "execute_result"
    }
   ],
   "source": [
    "df['Year'].dtypes # chenking year dtype"
   ]
  },
  {
   "cell_type": "code",
   "execution_count": 489,
   "id": "5ae60b49",
   "metadata": {},
   "outputs": [
    {
     "name": "stderr",
     "output_type": "stream",
     "text": [
      "C:\\Users\\Lucky Infotech\\AppData\\Local\\Temp\\ipykernel_12004\\1186596301.py:1: SettingWithCopyWarning: \n",
      "A value is trying to be set on a copy of a slice from a DataFrame.\n",
      "Try using .loc[row_indexer,col_indexer] = value instead\n",
      "\n",
      "See the caveats in the documentation: https://pandas.pydata.org/pandas-docs/stable/user_guide/indexing.html#returning-a-view-versus-a-copy\n",
      "  df['Year'] = df['Year'].astype(int)\n"
     ]
    }
   ],
   "source": [
    "df['Year'] = df['Year'].astype(int)"
   ]
  },
  {
   "cell_type": "markdown",
   "id": "e1916f45",
   "metadata": {},
   "source": [
    "# Fill missing years with a default (like the median)"
   ]
  },
  {
   "cell_type": "code",
   "execution_count": 490,
   "id": "294ac2a8",
   "metadata": {},
   "outputs": [
    {
     "name": "stderr",
     "output_type": "stream",
     "text": [
      "C:\\Users\\Lucky Infotech\\AppData\\Local\\Temp\\ipykernel_12004\\1777155615.py:1: SettingWithCopyWarning: \n",
      "A value is trying to be set on a copy of a slice from a DataFrame.\n",
      "Try using .loc[row_indexer,col_indexer] = value instead\n",
      "\n",
      "See the caveats in the documentation: https://pandas.pydata.org/pandas-docs/stable/user_guide/indexing.html#returning-a-view-versus-a-copy\n",
      "  df['Year'] = df['Year'].fillna(df['Year'].median()) # here now year has 16327 values\n"
     ]
    }
   ],
   "source": [
    "df['Year'] = df['Year'].fillna(df['Year'].median()) # here now year has 16327 values "
   ]
  },
  {
   "cell_type": "code",
   "execution_count": 491,
   "id": "81f77df6",
   "metadata": {},
   "outputs": [
    {
     "name": "stderr",
     "output_type": "stream",
     "text": [
      "C:\\Users\\Lucky Infotech\\AppData\\Local\\Temp\\ipykernel_12004\\401265502.py:1: SettingWithCopyWarning: \n",
      "A value is trying to be set on a copy of a slice from a DataFrame.\n",
      "Try using .loc[row_indexer,col_indexer] = value instead\n",
      "\n",
      "See the caveats in the documentation: https://pandas.pydata.org/pandas-docs/stable/user_guide/indexing.html#returning-a-view-versus-a-copy\n",
      "  df['Publisher'] = df['Publisher'].fillna('Unknown')\n"
     ]
    }
   ],
   "source": [
    "df['Publisher'] = df['Publisher'].fillna('Unknown')"
   ]
  },
  {
   "cell_type": "code",
   "execution_count": 492,
   "id": "e1d1085f",
   "metadata": {},
   "outputs": [
    {
     "name": "stdout",
     "output_type": "stream",
     "text": [
      "<class 'pandas.core.frame.DataFrame'>\n",
      "Index: 16327 entries, 0 to 16597\n",
      "Data columns (total 11 columns):\n",
      " #   Column        Non-Null Count  Dtype  \n",
      "---  ------        --------------  -----  \n",
      " 0   Rank          16327 non-null  int64  \n",
      " 1   Name          16327 non-null  object \n",
      " 2   Platform      16327 non-null  object \n",
      " 3   Year          16327 non-null  int64  \n",
      " 4   Genre         16327 non-null  object \n",
      " 5   Publisher     16327 non-null  object \n",
      " 6   NA_Sales      16327 non-null  float64\n",
      " 7   EU_Sales      16327 non-null  float64\n",
      " 8   JP_Sales      16327 non-null  float64\n",
      " 9   Other_Sales   16327 non-null  float64\n",
      " 10  Global_Sales  16327 non-null  float64\n",
      "dtypes: float64(5), int64(2), object(4)\n",
      "memory usage: 1.5+ MB\n"
     ]
    }
   ],
   "source": [
    "df.info()"
   ]
  },
  {
   "cell_type": "markdown",
   "id": "1551ff50",
   "metadata": {},
   "source": [
    "# Are there duplicate rows in the dataset"
   ]
  },
  {
   "cell_type": "code",
   "execution_count": 493,
   "id": "025da909",
   "metadata": {},
   "outputs": [
    {
     "data": {
      "text/plain": [
       "np.int64(0)"
      ]
     },
     "execution_count": 493,
     "metadata": {},
     "output_type": "execute_result"
    }
   ],
   "source": [
    "df.duplicated().sum()"
   ]
  },
  {
   "cell_type": "markdown",
   "id": "0ba3dbd5",
   "metadata": {},
   "source": [
    "Observation:\n",
    "If duplicates exist, consider removing them using df.drop_duplicates() to ensure clean data."
   ]
  },
  {
   "cell_type": "markdown",
   "id": "f1a26526",
   "metadata": {},
   "source": [
    "# Data Analysis"
   ]
  },
  {
   "cell_type": "markdown",
   "id": "a113b5b1",
   "metadata": {},
   "source": [
    "# 1. Which publisher has released the most games?"
   ]
  },
  {
   "cell_type": "code",
   "execution_count": 494,
   "id": "94907ad2",
   "metadata": {},
   "outputs": [
    {
     "data": {
      "text/plain": [
       "Publisher\n",
       "Electronic Arts    1339\n",
       "Name: count, dtype: int64"
      ]
     },
     "execution_count": 494,
     "metadata": {},
     "output_type": "execute_result"
    }
   ],
   "source": [
    "df['Publisher'].value_counts().head(1)"
   ]
  },
  {
   "cell_type": "markdown",
   "id": "35082406",
   "metadata": {},
   "source": [
    "Observation:\n",
    "Popular publishers like Electronic Arts might top the list."
   ]
  },
  {
   "cell_type": "markdown",
   "id": "87ef237a",
   "metadata": {},
   "source": [
    "# 2. Which game has the highest global sales?"
   ]
  },
  {
   "cell_type": "code",
   "execution_count": 495,
   "id": "3cf54f72",
   "metadata": {},
   "outputs": [
    {
     "data": {
      "text/html": [
       "<div>\n",
       "<style scoped>\n",
       "    .dataframe tbody tr th:only-of-type {\n",
       "        vertical-align: middle;\n",
       "    }\n",
       "\n",
       "    .dataframe tbody tr th {\n",
       "        vertical-align: top;\n",
       "    }\n",
       "\n",
       "    .dataframe thead th {\n",
       "        text-align: right;\n",
       "    }\n",
       "</style>\n",
       "<table border=\"1\" class=\"dataframe\">\n",
       "  <thead>\n",
       "    <tr style=\"text-align: right;\">\n",
       "      <th></th>\n",
       "      <th>Rank</th>\n",
       "      <th>Name</th>\n",
       "      <th>Platform</th>\n",
       "      <th>Year</th>\n",
       "      <th>Genre</th>\n",
       "      <th>Publisher</th>\n",
       "      <th>NA_Sales</th>\n",
       "      <th>EU_Sales</th>\n",
       "      <th>JP_Sales</th>\n",
       "      <th>Other_Sales</th>\n",
       "      <th>Global_Sales</th>\n",
       "    </tr>\n",
       "  </thead>\n",
       "  <tbody>\n",
       "    <tr>\n",
       "      <th>0</th>\n",
       "      <td>1</td>\n",
       "      <td>Wii Sports</td>\n",
       "      <td>Wii</td>\n",
       "      <td>2006</td>\n",
       "      <td>Sports</td>\n",
       "      <td>Nintendo</td>\n",
       "      <td>41.49</td>\n",
       "      <td>29.02</td>\n",
       "      <td>3.77</td>\n",
       "      <td>8.46</td>\n",
       "      <td>82.74</td>\n",
       "    </tr>\n",
       "  </tbody>\n",
       "</table>\n",
       "</div>"
      ],
      "text/plain": [
       "   Rank        Name Platform  Year   Genre Publisher  NA_Sales  EU_Sales  \\\n",
       "0     1  Wii Sports      Wii  2006  Sports  Nintendo     41.49     29.02   \n",
       "\n",
       "   JP_Sales  Other_Sales  Global_Sales  \n",
       "0      3.77         8.46         82.74  "
      ]
     },
     "execution_count": 495,
     "metadata": {},
     "output_type": "execute_result"
    }
   ],
   "source": [
    "df[df['Global_Sales']==df['Global_Sales'].max()]"
   ]
  },
  {
   "cell_type": "markdown",
   "id": "20a94148",
   "metadata": {},
   "source": [
    "Observation:\n",
    "Likely to be Wii Sports game."
   ]
  },
  {
   "cell_type": "markdown",
   "metadata": {},
   "source": [
    "# 3. What are the top 5 platforms with the most games?"
   ]
  },
  {
   "cell_type": "code",
   "execution_count": 496,
   "id": "797ddbe2",
   "metadata": {},
   "outputs": [
    {
     "data": {
      "text/plain": [
       "Platform\n",
       "DS      2133\n",
       "PS2     2127\n",
       "PS3     1304\n",
       "Wii     1290\n",
       "X360    1235\n",
       "Name: count, dtype: int64"
      ]
     },
     "execution_count": 496,
     "metadata": {},
     "output_type": "execute_result"
    }
   ],
   "source": [
    "df['Platform'].value_counts(ascending=False).head(5)"
   ]
  },
  {
   "cell_type": "markdown",
   "id": "163588b4",
   "metadata": {},
   "source": [
    "Observation:\n",
    "Expect to see platforms like PS2, DS, PS3, X360, Wii at the top."
   ]
  },
  {
   "cell_type": "markdown",
   "id": "0de94f26",
   "metadata": {},
   "source": [
    "# 4.What genre is most common?"
   ]
  },
  {
   "cell_type": "code",
   "execution_count": 497,
   "id": "82fac97c",
   "metadata": {},
   "outputs": [
    {
     "data": {
      "text/plain": [
       "Genre\n",
       "Action    3253\n",
       "Name: count, dtype: int64"
      ]
     },
     "execution_count": 497,
     "metadata": {},
     "output_type": "execute_result"
    }
   ],
   "source": [
    "df['Genre'].value_counts().head(1)"
   ]
  },
  {
   "cell_type": "markdown",
   "id": "1c523264",
   "metadata": {},
   "source": [
    "Observation:\n",
    "Action  is often the most common genre in video game datasets."
   ]
  },
  {
   "cell_type": "markdown",
   "id": "f4fc041b",
   "metadata": {},
   "source": [
    "# 5.What is the total global sales per genre?"
   ]
  },
  {
   "cell_type": "code",
   "execution_count": 498,
   "id": "ec6091eb",
   "metadata": {},
   "outputs": [
    {
     "data": {
      "text/plain": [
       "Genre\n",
       "Action          1722.88\n",
       "Sports          1309.24\n",
       "Shooter         1026.20\n",
       "Role-Playing     923.84\n",
       "Platform         829.15\n",
       "Misc             797.62\n",
       "Racing           726.77\n",
       "Fighting         444.05\n",
       "Simulation       390.16\n",
       "Puzzle           242.22\n",
       "Adventure        234.80\n",
       "Strategy         173.43\n",
       "Name: Global_Sales, dtype: float64"
      ]
     },
     "execution_count": 498,
     "metadata": {},
     "output_type": "execute_result"
    }
   ],
   "source": [
    "genre_sales=df.groupby('Genre')['Global_Sales'].sum().sort_values(ascending=False)\n",
    "genre_sales"
   ]
  },
  {
   "cell_type": "markdown",
   "metadata": {},
   "source": [
    "Observation:\n",
    "Genres like Action, Sports, Shooter often have the highest total sales. This shows popularity and profitability trends."
   ]
  },
  {
   "cell_type": "markdown",
   "id": "59b9e352",
   "metadata": {},
   "source": [
    "# 6.How many games were released by each publisher?"
   ]
  },
  {
   "cell_type": "code",
   "execution_count": 499,
   "id": "9ff60013",
   "metadata": {},
   "outputs": [],
   "source": [
    "publisher_count=df.groupby('Publisher')['Name'].count().sort_values(ascending=False)\n",
    "# publisher_count"
   ]
  },
  {
   "cell_type": "markdown",
   "id": "37a9b496",
   "metadata": {},
   "source": [
    "Observation:\n",
    "Publishers like Electronic Arts usually top this list, indicating they have large portfolios."
   ]
  },
  {
   "cell_type": "markdown",
   "metadata": {},
   "source": [
    "# 7.What is the average global sales per platform?"
   ]
  },
  {
   "cell_type": "code",
   "execution_count": 500,
   "id": "402b2046",
   "metadata": {},
   "outputs": [],
   "source": [
    "avg_plt=df.groupby('Platform')['Global_Sales'].mean().sort_values(ascending=False)\n",
    "# avg_plt"
   ]
  },
  {
   "cell_type": "markdown",
   "metadata": {},
   "source": [
    "Observation:\n",
    "Platforms like GB,NES,GEN may have high average sales per game, suggesting better performance per title."
   ]
  },
  {
   "cell_type": "markdown",
   "id": "44f6750f",
   "metadata": {},
   "source": [
    "# 8.What is the total sales per year?"
   ]
  },
  {
   "cell_type": "code",
   "execution_count": 501,
   "id": "141ab803",
   "metadata": {},
   "outputs": [
    {
     "data": {
      "text/plain": [
       "Year\n",
       "2020      0.29\n",
       "2017      0.05\n",
       "2016     70.93\n",
       "2015    264.44\n",
       "2014    337.05\n",
       "2013    368.11\n",
       "2012    363.54\n",
       "2011    515.99\n",
       "2010    600.45\n",
       "2009    667.30\n",
       "2008    678.90\n",
       "Name: Global_Sales, dtype: float64"
      ]
     },
     "execution_count": 501,
     "metadata": {},
     "output_type": "execute_result"
    }
   ],
   "source": [
    "yearly_sales=df.groupby('Year')['Global_Sales'].sum().sort_index(ascending=False).head(11)\n",
    "yearly_sales    "
   ]
  },
  {
   "cell_type": "markdown",
   "id": "16e79d6a",
   "metadata": {},
   "source": [
    "Observation:\n",
    "You might see peaks around 2008–2010, which were big years for the gaming industry.\n",
    "Why focus on 2008–2010?\n",
    "Because it was a “golden era” for video game sales, and this is clearly reflected in the data."
   ]
  },
  {
   "cell_type": "markdown",
   "id": "291c5e97",
   "metadata": {},
   "source": [
    "# 9.Which genre performs best globally each year?"
   ]
  },
  {
   "cell_type": "code",
   "execution_count": 523,
   "id": "aa9f732d",
   "metadata": {},
   "outputs": [],
   "source": [
    "best_genre=df.groupby(['Year','Genre'])['Global_Sales'].sum().reset_index()\n",
    "# best_genre\n",
    "best_each_year=best_genre.sort_values(['Year','Global_Sales'],ascending=[True,False]).drop_duplicates('Year')\n",
    "# best_each_year"
   ]
  },
  {
   "cell_type": "markdown",
   "id": "1b033b49",
   "metadata": {},
   "source": [
    "Observation:\n",
    "Shows how genre popularity changes over time. For example, Sports might dominate early 2000s, while Action gains in later years."
   ]
  },
  {
   "cell_type": "markdown",
   "id": "922d09c2",
   "metadata": {},
   "source": [
    "# 10.What is the average sales per genre per platform?"
   ]
  },
  {
   "cell_type": "code",
   "execution_count": 518,
   "id": "b0d34716",
   "metadata": {},
   "outputs": [],
   "source": [
    "avg_sales=df.groupby(['Platform','Genre'])['Global_Sales'].mean()\n",
    "# avg_sales\n",
    "# avg_sales1=df.groupby(['Platform','Genre'])['Global_Sales'].mean().unstack()\n",
    "# avg_sales1\n",
    "# avg_sales2=df.groupby(['Platform','Genre'])['Global_Sales'].mean().unstack().fillna(0)\n",
    "# avg_sales2"
   ]
  },
  {
   "cell_type": "markdown",
   "id": "097d47c0",
   "metadata": {},
   "source": [
    "Observation:\n",
    "You’ll find certain genres perform significantly better on specific platforms"
   ]
  },
  {
   "cell_type": "markdown",
   "id": "5810d211",
   "metadata": {},
   "source": [
    "# Plots"
   ]
  },
  {
   "cell_type": "markdown",
   "id": "cf6fa6dd",
   "metadata": {},
   "source": [
    "# 1.Are there any outliers in numerical columns like Global_Sales?"
   ]
  },
  {
   "cell_type": "code",
   "execution_count": 530,
   "id": "d1756827",
   "metadata": {},
   "outputs": [
    {
     "data": {
      "text/plain": [
       "Text(0.5, 1.0, 'Outliers in Global_Sales')"
      ]
     },
     "execution_count": 530,
     "metadata": {},
     "output_type": "execute_result"
    },
    {
     "data": {
      "image/png": "[encoded data removed]",
      "text/plain": [
       "<Figure size 300x300 with 1 Axes>"
      ]
     },
     "metadata": {},
     "output_type": "display_data"
    }
   ],
   "source": [
    "plt.figure(figsize=(3,3))\n",
    "sns.boxplot(data=df['Global_Sales'])\n",
    "# sns.boxplot(data=df,x='Global_Sales')\n",
    "plt.title('Outliers in Global_Sales')"
   ]
  },
  {
   "cell_type": "markdown",
   "id": "15ac91c5",
   "metadata": {},
   "source": [
    "Observation:\n",
    "Outliers (like extremely high-selling games) are expected and may not always need to be removed unless you're focusing on typical game performance."
   ]
  },
  {
   "cell_type": "markdown",
   "id": "f2b719e0",
   "metadata": {},
   "source": [
    "# 2.What is the trend of game releases over the years?"
   ]
  },
  {
   "cell_type": "code",
   "execution_count": 505,
   "id": "dfd29589",
   "metadata": {},
   "outputs": [],
   "source": [
    "Game_rels=df['Year'].value_counts().sort_index()"
   ]
  },
  {
   "cell_type": "code",
   "execution_count": 536,
   "id": "c590ee22",
   "metadata": {},
   "outputs": [
    {
     "data": {
      "text/plain": [
       "Text(0.5, 1.0, 'Game releases over the years')"
      ]
     },
     "execution_count": 536,
     "metadata": {},
     "output_type": "execute_result"
    },
    {
     "data": {
      "image/png": "[encoded data removed]",
      "text/plain": [
       "<Figure size 500x300 with 1 Axes>"
      ]
     },
     "metadata": {},
     "output_type": "display_data"
    }
   ],
   "source": [
    "plt.figure(figsize=(5,3))\n",
    "sns.lineplot(x=Game_rels.index,y=Game_rels.values,marker='o')\n",
    "plt.title('Game releases over the years')\n",
    "#------------------------------------or----------\n",
    "# df['Year'].value_counts().sort_index().plot(kind='line', figsize=(5,3))"
   ]
  },
  {
   "cell_type": "markdown",
   "id": "d1d61a7c",
   "metadata": {},
   "source": [
    "Observation:\n",
    "Might see a peak in mid-2000s with a decline in recent years due to dataset cutoff."
   ]
  },
  {
   "cell_type": "markdown",
   "id": "c23fa2dd",
   "metadata": {},
   "source": [
    "# 3.What is the trend of global game sales over the years?"
   ]
  },
  {
   "cell_type": "code",
   "execution_count": 507,
   "id": "313066ab",
   "metadata": {},
   "outputs": [
    {
     "data": {
      "text/plain": [
       "Text(0, 0.5, 'Global Sales (in millions)')"
      ]
     },
     "execution_count": 507,
     "metadata": {},
     "output_type": "execute_result"
    },
    {
     "data": {
      "image/png": "[encoded data removed]",
      "text/plain": [
       "<Figure size 600x300 with 1 Axes>"
      ]
     },
     "metadata": {},
     "output_type": "display_data"
    }
   ],
   "source": [
    "yearly_sales1=df.groupby('Year')['Global_Sales'].sum()\n",
    "plt.figure(figsize=(6,3))\n",
    "sns.lineplot(x=yearly_sales1.index,y=yearly_sales1.values,marker='o')\n",
    "plt.title('Global Sales Over the Years')\n",
    "plt.xlabel('Year')\n",
    "plt.ylabel('Global Sales (in millions)')"
   ]
  },
  {
   "cell_type": "markdown",
   "metadata": {},
   "source": [
    " Observation:\n",
    "Expect a rise in sales in the mid-2000s with a peak around 2008–2010, then a decline — possibly due to dataset cutoff or market saturation."
   ]
  },
  {
   "cell_type": "markdown",
   "metadata": {},
   "source": [
    "# 4.Which are the top 10 best-selling games?"
   ]
  },
  {
   "cell_type": "code",
   "execution_count": 535,
   "id": "11dc0b6f",
   "metadata": {},
   "outputs": [
    {
     "data": {
      "text/plain": [
       "Text(0, 0.5, 'Game Title')"
      ]
     },
     "execution_count": 535,
     "metadata": {},
     "output_type": "execute_result"
    },
    {
     "data": {
      "image/png": "[encoded data removed]",
      "text/plain": [
       "<Figure size 600x300 with 1 Axes>"
      ]
     },
     "metadata": {},
     "output_type": "display_data"
    }
   ],
   "source": [
    "top10_sale=df.sort_values('Global_Sales',ascending=False).head(10)\n",
    "# top10_sale\n",
    "plt.figure(figsize=(6,3))\n",
    "sns.barplot(data=top10_sale,x='Global_Sales',y='Name')\n",
    "plt.title('Top 10 Best-Selling Games')\n",
    "plt.xlabel('Global Sales (in millions)')\n",
    "plt.ylabel('Game Title')"
   ]
  },
  {
   "cell_type": "markdown",
   "metadata": {},
   "source": [
    "Observation:\n",
    "Likely dominated by titles like Wii Sports."
   ]
  },
  {
   "cell_type": "markdown",
   "metadata": {},
   "source": [
    "# 5.What are the total sales by genre?"
   ]
  },
  {
   "cell_type": "code",
   "execution_count": 509,
   "id": "36a02104",
   "metadata": {},
   "outputs": [
    {
     "data": {
      "text/plain": [
       "Text(0, 0.5, 'Global Sales (in millions)')"
      ]
     },
     "execution_count": 509,
     "metadata": {},
     "output_type": "execute_result"
    },
    {
     "data": {
      "image/png": "[encoded data removed]",
      "text/plain": [
       "<Figure size 1000x300 with 1 Axes>"
      ]
     },
     "metadata": {},
     "output_type": "display_data"
    }
   ],
   "source": [
    "genre_sales1=df.groupby('Genre')['Global_Sales'].sum().sort_values(ascending=False)\n",
    "plt.figure(figsize=(10,3))\n",
    "sns.barplot(data=genre_sales1,color='orange')\n",
    "plt.title('Total Global Sales by Genre')\n",
    "plt.xlabel('Genre')\n",
    "plt.ylabel('Global Sales (in millions)')"
   ]
  },
  {
   "cell_type": "markdown",
   "metadata": {},
   "source": [
    "Observation:\n",
    "Action and Sports genres typically dominate in total sales."
   ]
  },
  {
   "cell_type": "markdown",
   "id": "c5b50fb8",
   "metadata": {},
   "source": [
    "# 6.Which platforms have the most games released?"
   ]
  },
  {
   "cell_type": "code",
   "execution_count": 510,
   "id": "12ad38d0",
   "metadata": {},
   "outputs": [
    {
     "name": "stderr",
     "output_type": "stream",
     "text": [
      "C:\\Users\\Lucky Infotech\\AppData\\Local\\Temp\\ipykernel_12004\\1462600239.py:4: FutureWarning: \n",
      "\n",
      "Passing `palette` without assigning `hue` is deprecated and will be removed in v0.14.0. Assign the `x` variable to `hue` and set `legend=False` for the same effect.\n",
      "\n",
      "  sns.barplot(x=plt_count.index,y=plt_count.values,palette='viridis')\n"
     ]
    },
    {
     "data": {
      "image/png": "[encoded data removed]",
      "text/plain": [
       "<Figure size 600x300 with 1 Axes>"
      ]
     },
     "metadata": {},
     "output_type": "display_data"
    }
   ],
   "source": [
    "plt_count=df['Platform'].value_counts().head(5)\n",
    "# plt_count\n",
    "plt.figure(figsize=(6,3))\n",
    "sns.barplot(x=plt_count.index,y=plt_count.values,palette='viridis')\n",
    "plt.title('Top 10 Platforms by Number of Games')\n",
    "plt.xlabel('Platform')\n",
    "plt.ylabel('Number of Games')\n",
    "\n",
    "plt.show()"
   ]
  },
  {
   "cell_type": "markdown",
   "id": "aeb13c0b",
   "metadata": {},
   "source": [
    "Observation:\n",
    "Platforms like DS, PS2, and Wii often lead in total number of game releases."
   ]
  },
  {
   "cell_type": "markdown",
   "id": "308f655c",
   "metadata": {},
   "source": [
    "# 7.How do sales vary by region for top 5 platforms?"
   ]
  },
  {
   "cell_type": "code",
   "execution_count": 511,
   "id": "42e65bba",
   "metadata": {},
   "outputs": [
    {
     "data": {
      "text/html": [
       "<div>\n",
       "<style scoped>\n",
       "    .dataframe tbody tr th:only-of-type {\n",
       "        vertical-align: middle;\n",
       "    }\n",
       "\n",
       "    .dataframe tbody tr th {\n",
       "        vertical-align: top;\n",
       "    }\n",
       "\n",
       "    .dataframe thead th {\n",
       "        text-align: right;\n",
       "    }\n",
       "</style>\n",
       "<table border=\"1\" class=\"dataframe\">\n",
       "  <thead>\n",
       "    <tr style=\"text-align: right;\">\n",
       "      <th></th>\n",
       "      <th>Rank</th>\n",
       "      <th>Name</th>\n",
       "      <th>Platform</th>\n",
       "      <th>Year</th>\n",
       "      <th>Genre</th>\n",
       "      <th>Publisher</th>\n",
       "      <th>NA_Sales</th>\n",
       "      <th>EU_Sales</th>\n",
       "      <th>JP_Sales</th>\n",
       "      <th>Other_Sales</th>\n",
       "      <th>Global_Sales</th>\n",
       "    </tr>\n",
       "  </thead>\n",
       "  <tbody>\n",
       "    <tr>\n",
       "      <th>0</th>\n",
       "      <td>1</td>\n",
       "      <td>Wii Sports</td>\n",
       "      <td>Wii</td>\n",
       "      <td>2006</td>\n",
       "      <td>Sports</td>\n",
       "      <td>Nintendo</td>\n",
       "      <td>41.49</td>\n",
       "      <td>29.02</td>\n",
       "      <td>3.77</td>\n",
       "      <td>8.46</td>\n",
       "      <td>82.74</td>\n",
       "    </tr>\n",
       "  </tbody>\n",
       "</table>\n",
       "</div>"
      ],
      "text/plain": [
       "   Rank        Name Platform  Year   Genre Publisher  NA_Sales  EU_Sales  \\\n",
       "0     1  Wii Sports      Wii  2006  Sports  Nintendo     41.49     29.02   \n",
       "\n",
       "   JP_Sales  Other_Sales  Global_Sales  \n",
       "0      3.77         8.46         82.74  "
      ]
     },
     "execution_count": 511,
     "metadata": {},
     "output_type": "execute_result"
    }
   ],
   "source": [
    "df.head(1)"
   ]
  },
  {
   "cell_type": "code",
   "execution_count": 527,
   "id": "44304018",
   "metadata": {},
   "outputs": [
    {
     "data": {
      "text/plain": [
       "Index(['DS', 'PS2', 'PS3', 'Wii', 'X360'], dtype='object', name='Platform')"
      ]
     },
     "execution_count": 527,
     "metadata": {},
     "output_type": "execute_result"
    }
   ],
   "source": [
    "top_platforms = df['Platform'].value_counts().head(5).index\n",
    "top_platforms"
   ]
  },
  {
   "cell_type": "code",
   "execution_count": 541,
   "id": "67c11b59",
   "metadata": {},
   "outputs": [
    {
     "data": {
      "image/png": "[encoded data removed]",
      "text/plain": [
       "<Figure size 600x300 with 1 Axes>"
      ]
     },
     "metadata": {},
     "output_type": "display_data"
    }
   ],
   "source": [
    "region_sales = df[df['Platform'].isin(top_platforms)].groupby('Platform')[['NA_Sales', 'EU_Sales', 'JP_Sales', 'Other_Sales']].sum()\n",
    "\n",
    "region_sales.plot(kind='bar', figsize=(6,3))\n",
    "# region_sales.plot(kind='bar', stacked=True, figsize=(10,6))\n",
    "plt.title('Sales by Region for Top 5 Platforms')\n",
    "plt.xlabel('Platform')\n",
    "plt.ylabel('Sales (in millions)')\n",
    "plt.legend(title='Region')\n",
    "plt.show()\n"
   ]
  },
  {
   "cell_type": "markdown",
   "id": "47bcf4b2",
   "metadata": {},
   "source": [
    "Observation:\n",
    "North America usually leads in sales, but Japan has a big presence for certain platforms like Nintendo DS."
   ]
  },
  {
   "cell_type": "markdown",
   "id": "3c7fdcca",
   "metadata": {},
   "source": [
    "# 7.Distribution of global sales values across all games?"
   ]
  },
  {
   "cell_type": "code",
   "execution_count": 547,
   "id": "bc76045c",
   "metadata": {},
   "outputs": [
    {
     "data": {
      "image/png": "[encoded data removed]",
      "text/plain": [
       "<Figure size 600x300 with 1 Axes>"
      ]
     },
     "metadata": {},
     "output_type": "display_data"
    }
   ],
   "source": [
    "plt.figure(figsize=(6,3))\n",
    "# sns.histplot(df['Global_Sales'], bins=50, kde=True)\n",
    "#-------------------------------------------or---------------\n",
    "sns.histplot(data=df,x='Global_Sales', bins=50, kde=True)\n",
    "plt.xlim(0, 5)\n",
    "plt.title('Distribution of Global Sales')\n",
    "plt.xlabel('Global Sales (in millions)')\n",
    "plt.ylabel('Number of Games')\n",
    "plt.show()"
   ]
  },
  {
   "cell_type": "markdown",
   "id": "efd95685",
   "metadata": {},
   "source": [
    "Observation:\n",
    "Most games have low global sales — long-tail distribution. A few blockbusters account for a majority of total sales."
   ]
  },
  {
   "cell_type": "markdown",
   "id": "b76b8053",
   "metadata": {},
   "source": [
    "# Final Analysis Conclusion"
   ]
  },
  {
   "cell_type": "markdown",
   "id": "45b3654f",
   "metadata": {},
   "source": [
    "1. Most games sell only a little — but a few are massive hits.\n",
    "The majority of games have low global sales, while just a few blockbusters like Wii Sports and GTA V drive a large chunk of total revenue.\n",
    "\n",
    "2. Action and Sports games are the most popular genres.\n",
    "These genres consistently show the highest total sales, indicating strong global appeal and consistent demand over the years.\n",
    "\n",
    "3. Sales peaked between 2008 and 2010, then declined.\n",
    "Game releases and sales were highest around this time, likely due to the popularity of platforms like the Wii, DS, and PS3.\n",
    "\n",
    "4. North America leads in sales, but Japan is strong for Nintendo platforms.\n",
    "NA_Sales are generally highest, but Japanese titles and consoles show strong performance in their home region."
   ]
  }
 ],
 "metadata": {
  "kernelspec": {
   "display_name": "Python 3",
   "language": "python",
   "name": "python3"
  },
  "language_info": {
   "codemirror_mode": {
    "name": "ipython",
    "version": 3
   },
   "file_extension": ".py",
   "mimetype": "text/x-python",
   "name": "python",
   "nbconvert_exporter": "python",
   "pygments_lexer": "ipython3",
   "version": "3.12.3"
  }
 },
 "nbformat": 4,
 "nbformat_minor": 5
}
