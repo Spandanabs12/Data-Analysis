{
  "cells": [
    {
      "cell_type": "markdown",
      "metadata": {},
      "source": [
        "# importing the libraries"
      ]
    },
    {
      "cell_type": "code",
      "execution_count": 487,
      "metadata": {
        "id": "ob3kIWxZVn5W"
      },
      "outputs": [],
      "source": [
        "import numpy as np\n",
        "import pandas as pd"
      ]
    },
    {
      "cell_type": "markdown",
      "metadata": {},
      "source": [
        "# loading the dataset "
      ]
    },
    {
      "cell_type": "code",
      "execution_count": 488,
      "metadata": {
        "colab": {
          "base_uri": "https://localhost:8080/"
        },
        "id": "oSb5vJ5NVwcG",
        "outputId": "9a4bc97f-cbfe-4257-b8db-6b9a78d657aa"
      },
      "outputs": [],
      "source": [
        "movie=pd.read_csv('MoviesOnStreamingPlatforms_updated.csv')\n"
      ]
    },
    {
      "cell_type": "markdown",
      "metadata": {},
      "source": [
        "# understanding the dataset"
      ]
    },
    {
      "cell_type": "code",
      "execution_count": 489,
      "metadata": {},
      "outputs": [
        {
          "data": {
            "text/plain": [
              "Index(['Unnamed: 0', 'ID', 'Title', 'Year', 'Age', 'IMDb', 'Rotten Tomatoes',\n",
              "       'Netflix', 'Hulu', 'Prime Video', 'Disney+', 'Type', 'Directors',\n",
              "       'Genres', 'Country', 'Language', 'Runtime'],\n",
              "      dtype='object')"
            ]
          },
          "execution_count": 489,
          "metadata": {},
          "output_type": "execute_result"
        }
      ],
      "source": [
        "movie.columns"
      ]
    },
    {
      "cell_type": "markdown",
      "metadata": {},
      "source": []
    },
    {
      "cell_type": "code",
      "execution_count": 490,
      "metadata": {},
      "outputs": [
        {
          "name": "stdout",
          "output_type": "stream",
          "text": [
            "<class 'pandas.core.frame.DataFrame'>\n",
            "RangeIndex: 16744 entries, 0 to 16743\n",
            "Data columns (total 17 columns):\n",
            " #   Column           Non-Null Count  Dtype  \n",
            "---  ------           --------------  -----  \n",
            " 0   Unnamed: 0       16744 non-null  int64  \n",
            " 1   ID               16744 non-null  int64  \n",
            " 2   Title            16744 non-null  object \n",
            " 3   Year             16744 non-null  int64  \n",
            " 4   Age              7354 non-null   object \n",
            " 5   IMDb             16173 non-null  float64\n",
            " 6   Rotten Tomatoes  5158 non-null   object \n",
            " 7   Netflix          16744 non-null  int64  \n",
            " 8   Hulu             16744 non-null  int64  \n",
            " 9   Prime Video      16744 non-null  int64  \n",
            " 10  Disney+          16744 non-null  int64  \n",
            " 11  Type             16744 non-null  int64  \n",
            " 12  Directors        16018 non-null  object \n",
            " 13  Genres           16469 non-null  object \n",
            " 14  Country          16309 non-null  object \n",
            " 15  Language         16130 non-null  object \n",
            " 16  Runtime          16152 non-null  float64\n",
            "dtypes: float64(2), int64(8), object(7)\n",
            "memory usage: 2.2+ MB\n"
          ]
        }
      ],
      "source": [
        "movie.info()"
      ]
    },
    {
      "cell_type": "markdown",
      "metadata": {},
      "source": [
        "observation: \n"
      ]
    },
    {
      "cell_type": "markdown",
      "metadata": {},
      "source": [
        "# Data cleaning"
      ]
    },
    {
      "cell_type": "code",
      "execution_count": 491,
      "metadata": {
        "id": "foMaEDj1W5lu"
      },
      "outputs": [],
      "source": [
        "movie=movie.drop(columns=['Unnamed: 0']) # removing the unnecessary columns"
      ]
    },
    {
      "cell_type": "code",
      "execution_count": 492,
      "metadata": {
        "colab": {
          "base_uri": "https://localhost:8080/"
        },
        "id": "X1xk3kcQW5iI",
        "outputId": "96adf31b-aedc-4d31-c926-68dbb343f5d9"
      },
      "outputs": [],
      "source": [
        "movie['Age']=movie['Age'].fillna(movie['Age'].mode()[0])\n",
        "movie['IMDb']=movie['IMDb'].fillna(movie['IMDb'].mean()).round(1)\n",
        "\n",
        "movie['Rotten Tomatoes']=movie['Rotten Tomatoes'].str.strip('%')\n",
        "movie['Rotten Tomatoes']=movie['Rotten Tomatoes'].astype(float)\n",
        "movie['Rotten Tomatoes']=(movie['Rotten Tomatoes'].fillna(movie['Rotten Tomatoes'].mean())/10).round(1)"
      ]
    },
    {
      "cell_type": "code",
      "execution_count": 493,
      "metadata": {
        "colab": {
          "base_uri": "https://localhost:8080/"
        },
        "id": "q6bnIHMlW5cu",
        "outputId": "29d5792b-3c4c-45a8-944b-2b7213cea233"
      },
      "outputs": [],
      "source": [
        "movie['Directors']=movie['Directors'].fillna('unknown')\n",
        "movie['Genres']=movie['Genres'].fillna('unknown')\n",
        "movie['Country']=movie['Country'].fillna('unknown')\n",
        "movie['Language']=movie['Language'].fillna('unknown')\n",
        "movie['Runtime']=movie['Runtime'].fillna(movie['Runtime'].mean())"
      ]
    },
    {
      "cell_type": "code",
      "execution_count": 494,
      "metadata": {
        "colab": {
          "base_uri": "https://localhost:8080/"
        },
        "id": "GuuDHulEW5V0",
        "outputId": "b85713bc-aa99-4235-b32d-506a1a141663"
      },
      "outputs": [
        {
          "name": "stdout",
          "output_type": "stream",
          "text": [
            "<class 'pandas.core.frame.DataFrame'>\n",
            "RangeIndex: 16744 entries, 0 to 16743\n",
            "Data columns (total 16 columns):\n",
            " #   Column           Non-Null Count  Dtype  \n",
            "---  ------           --------------  -----  \n",
            " 0   ID               16744 non-null  int64  \n",
            " 1   Title            16744 non-null  object \n",
            " 2   Year             16744 non-null  int64  \n",
            " 3   Age              16744 non-null  object \n",
            " 4   IMDb             16744 non-null  float64\n",
            " 5   Rotten Tomatoes  16744 non-null  float64\n",
            " 6   Netflix          16744 non-null  int64  \n",
            " 7   Hulu             16744 non-null  int64  \n",
            " 8   Prime Video      16744 non-null  int64  \n",
            " 9   Disney+          16744 non-null  int64  \n",
            " 10  Type             16744 non-null  int64  \n",
            " 11  Directors        16744 non-null  object \n",
            " 12  Genres           16744 non-null  object \n",
            " 13  Country          16744 non-null  object \n",
            " 14  Language         16744 non-null  object \n",
            " 15  Runtime          16744 non-null  float64\n",
            "dtypes: float64(3), int64(7), object(6)\n",
            "memory usage: 2.0+ MB\n"
          ]
        }
      ],
      "source": [
        "movie.info()"
      ]
    },
    {
      "cell_type": "code",
      "execution_count": 495,
      "metadata": {
        "colab": {
          "base_uri": "https://localhost:8080/",
          "height": 112
        },
        "id": "EfalVzruWoes",
        "outputId": "8f96fb80-54ca-4ffb-c2f8-9cdc18e65c4d"
      },
      "outputs": [
        {
          "data": {
            "text/html": [
              "<div>\n",
              "<style scoped>\n",
              "    .dataframe tbody tr th:only-of-type {\n",
              "        vertical-align: middle;\n",
              "    }\n",
              "\n",
              "    .dataframe tbody tr th {\n",
              "        vertical-align: top;\n",
              "    }\n",
              "\n",
              "    .dataframe thead th {\n",
              "        text-align: right;\n",
              "    }\n",
              "</style>\n",
              "<table border=\"1\" class=\"dataframe\">\n",
              "  <thead>\n",
              "    <tr style=\"text-align: right;\">\n",
              "      <th></th>\n",
              "      <th>ID</th>\n",
              "      <th>Title</th>\n",
              "      <th>Year</th>\n",
              "      <th>Age</th>\n",
              "      <th>IMDb</th>\n",
              "      <th>Rotten Tomatoes</th>\n",
              "      <th>Netflix</th>\n",
              "      <th>Hulu</th>\n",
              "      <th>Prime Video</th>\n",
              "      <th>Disney+</th>\n",
              "      <th>Type</th>\n",
              "      <th>Directors</th>\n",
              "      <th>Genres</th>\n",
              "      <th>Country</th>\n",
              "      <th>Language</th>\n",
              "      <th>Runtime</th>\n",
              "    </tr>\n",
              "  </thead>\n",
              "  <tbody>\n",
              "    <tr>\n",
              "      <th>0</th>\n",
              "      <td>1</td>\n",
              "      <td>Inception</td>\n",
              "      <td>2010</td>\n",
              "      <td>13+</td>\n",
              "      <td>8.8</td>\n",
              "      <td>8.7</td>\n",
              "      <td>1</td>\n",
              "      <td>0</td>\n",
              "      <td>0</td>\n",
              "      <td>0</td>\n",
              "      <td>0</td>\n",
              "      <td>Christopher Nolan</td>\n",
              "      <td>Action,Adventure,Sci-Fi,Thriller</td>\n",
              "      <td>United States,United Kingdom</td>\n",
              "      <td>English,Japanese,French</td>\n",
              "      <td>148.0</td>\n",
              "    </tr>\n",
              "    <tr>\n",
              "      <th>1</th>\n",
              "      <td>2</td>\n",
              "      <td>The Matrix</td>\n",
              "      <td>1999</td>\n",
              "      <td>18+</td>\n",
              "      <td>8.7</td>\n",
              "      <td>8.7</td>\n",
              "      <td>1</td>\n",
              "      <td>0</td>\n",
              "      <td>0</td>\n",
              "      <td>0</td>\n",
              "      <td>0</td>\n",
              "      <td>Lana Wachowski,Lilly Wachowski</td>\n",
              "      <td>Action,Sci-Fi</td>\n",
              "      <td>United States</td>\n",
              "      <td>English</td>\n",
              "      <td>136.0</td>\n",
              "    </tr>\n",
              "  </tbody>\n",
              "</table>\n",
              "</div>"
            ],
            "text/plain": [
              "   ID       Title  Year  Age  IMDb  Rotten Tomatoes  Netflix  Hulu  \\\n",
              "0   1   Inception  2010  13+   8.8              8.7        1     0   \n",
              "1   2  The Matrix  1999  18+   8.7              8.7        1     0   \n",
              "\n",
              "   Prime Video  Disney+  Type                       Directors  \\\n",
              "0            0        0     0               Christopher Nolan   \n",
              "1            0        0     0  Lana Wachowski,Lilly Wachowski   \n",
              "\n",
              "                             Genres                       Country  \\\n",
              "0  Action,Adventure,Sci-Fi,Thriller  United States,United Kingdom   \n",
              "1                     Action,Sci-Fi                 United States   \n",
              "\n",
              "                  Language  Runtime  \n",
              "0  English,Japanese,French    148.0  \n",
              "1                  English    136.0  "
            ]
          },
          "execution_count": 495,
          "metadata": {},
          "output_type": "execute_result"
        }
      ],
      "source": [
        "movie.head(2)"
      ]
    },
    {
      "cell_type": "code",
      "execution_count": 496,
      "metadata": {
        "colab": {
          "base_uri": "https://localhost:8080/",
          "height": 424
        },
        "id": "_WRJZRWHWq3K",
        "outputId": "8425678b-9cf9-4378-af42-2847324e43c1"
      },
      "outputs": [
        {
          "data": {
            "text/html": [
              "<div>\n",
              "<style scoped>\n",
              "    .dataframe tbody tr th:only-of-type {\n",
              "        vertical-align: middle;\n",
              "    }\n",
              "\n",
              "    .dataframe tbody tr th {\n",
              "        vertical-align: top;\n",
              "    }\n",
              "\n",
              "    .dataframe thead th {\n",
              "        text-align: right;\n",
              "    }\n",
              "</style>\n",
              "<table border=\"1\" class=\"dataframe\">\n",
              "  <thead>\n",
              "    <tr style=\"text-align: right;\">\n",
              "      <th></th>\n",
              "      <th>Title</th>\n",
              "      <th>IMDb</th>\n",
              "      <th>Runtime</th>\n",
              "      <th>Genres</th>\n",
              "    </tr>\n",
              "  </thead>\n",
              "  <tbody>\n",
              "    <tr>\n",
              "      <th>0</th>\n",
              "      <td>Inception</td>\n",
              "      <td>8.8</td>\n",
              "      <td>148.0</td>\n",
              "      <td>Action</td>\n",
              "    </tr>\n",
              "    <tr>\n",
              "      <th>0</th>\n",
              "      <td>Inception</td>\n",
              "      <td>8.8</td>\n",
              "      <td>148.0</td>\n",
              "      <td>Adventure</td>\n",
              "    </tr>\n",
              "    <tr>\n",
              "      <th>0</th>\n",
              "      <td>Inception</td>\n",
              "      <td>8.8</td>\n",
              "      <td>148.0</td>\n",
              "      <td>Sci-Fi</td>\n",
              "    </tr>\n",
              "    <tr>\n",
              "      <th>0</th>\n",
              "      <td>Inception</td>\n",
              "      <td>8.8</td>\n",
              "      <td>148.0</td>\n",
              "      <td>Thriller</td>\n",
              "    </tr>\n",
              "    <tr>\n",
              "      <th>1</th>\n",
              "      <td>The Matrix</td>\n",
              "      <td>8.7</td>\n",
              "      <td>136.0</td>\n",
              "      <td>Action</td>\n",
              "    </tr>\n",
              "  </tbody>\n",
              "</table>\n",
              "</div>"
            ],
            "text/plain": [
              "        Title  IMDb  Runtime     Genres\n",
              "0   Inception   8.8    148.0     Action\n",
              "0   Inception   8.8    148.0  Adventure\n",
              "0   Inception   8.8    148.0     Sci-Fi\n",
              "0   Inception   8.8    148.0   Thriller\n",
              "1  The Matrix   8.7    136.0     Action"
            ]
          },
          "execution_count": 496,
          "metadata": {},
          "output_type": "execute_result"
        }
      ],
      "source": [
        "x=movie['Genres'].str.split(',')\n",
        "Genres=x.explode()\n",
        "\n",
        "Genres_df=pd.merge(movie[['Title','IMDb','Runtime']],Genres,left_index=True,right_index=True)\n",
        "Genres_df.head()"
      ]
    },
    {
      "cell_type": "code",
      "execution_count": 497,
      "metadata": {
        "id": "cH-8-_nCWqzi"
      },
      "outputs": [
        {
          "data": {
            "text/html": [
              "<div>\n",
              "<style scoped>\n",
              "    .dataframe tbody tr th:only-of-type {\n",
              "        vertical-align: middle;\n",
              "    }\n",
              "\n",
              "    .dataframe tbody tr th {\n",
              "        vertical-align: top;\n",
              "    }\n",
              "\n",
              "    .dataframe thead th {\n",
              "        text-align: right;\n",
              "    }\n",
              "</style>\n",
              "<table border=\"1\" class=\"dataframe\">\n",
              "  <thead>\n",
              "    <tr style=\"text-align: right;\">\n",
              "      <th></th>\n",
              "      <th>Title</th>\n",
              "      <th>IMDb</th>\n",
              "      <th>Language</th>\n",
              "    </tr>\n",
              "  </thead>\n",
              "  <tbody>\n",
              "    <tr>\n",
              "      <th>0</th>\n",
              "      <td>Inception</td>\n",
              "      <td>8.8</td>\n",
              "      <td>English</td>\n",
              "    </tr>\n",
              "    <tr>\n",
              "      <th>0</th>\n",
              "      <td>Inception</td>\n",
              "      <td>8.8</td>\n",
              "      <td>Japanese</td>\n",
              "    </tr>\n",
              "    <tr>\n",
              "      <th>0</th>\n",
              "      <td>Inception</td>\n",
              "      <td>8.8</td>\n",
              "      <td>French</td>\n",
              "    </tr>\n",
              "    <tr>\n",
              "      <th>1</th>\n",
              "      <td>The Matrix</td>\n",
              "      <td>8.7</td>\n",
              "      <td>English</td>\n",
              "    </tr>\n",
              "    <tr>\n",
              "      <th>2</th>\n",
              "      <td>Avengers: Infinity War</td>\n",
              "      <td>8.5</td>\n",
              "      <td>English</td>\n",
              "    </tr>\n",
              "  </tbody>\n",
              "</table>\n",
              "</div>"
            ],
            "text/plain": [
              "                    Title  IMDb  Language\n",
              "0               Inception   8.8   English\n",
              "0               Inception   8.8  Japanese\n",
              "0               Inception   8.8    French\n",
              "1              The Matrix   8.7   English\n",
              "2  Avengers: Infinity War   8.5   English"
            ]
          },
          "execution_count": 497,
          "metadata": {},
          "output_type": "execute_result"
        }
      ],
      "source": [
        "# Splitting 'Language' column where multiple languages are separated by commas\n",
        "language_split = movie['Language'].str.split(',')\n",
        "Languages = language_split.explode()\n",
        "\n",
        "# Creating a DataFrame with Title, IMDb, and Language\n",
        "Languages_df = pd.merge(movie[['Title', 'IMDb']], Languages, left_index=True, right_index=True)\n",
        "Languages_df.head()\n"
      ]
    },
    {
      "cell_type": "code",
      "execution_count": 498,
      "metadata": {
        "id": "xa-n0DArWqxL"
      },
      "outputs": [
        {
          "data": {
            "text/html": [
              "<div>\n",
              "<style scoped>\n",
              "    .dataframe tbody tr th:only-of-type {\n",
              "        vertical-align: middle;\n",
              "    }\n",
              "\n",
              "    .dataframe tbody tr th {\n",
              "        vertical-align: top;\n",
              "    }\n",
              "\n",
              "    .dataframe thead th {\n",
              "        text-align: right;\n",
              "    }\n",
              "</style>\n",
              "<table border=\"1\" class=\"dataframe\">\n",
              "  <thead>\n",
              "    <tr style=\"text-align: right;\">\n",
              "      <th></th>\n",
              "      <th>Title</th>\n",
              "      <th>IMDb</th>\n",
              "      <th>Year</th>\n",
              "      <th>Rotten Tomatoes</th>\n",
              "      <th>Platform</th>\n",
              "    </tr>\n",
              "  </thead>\n",
              "  <tbody>\n",
              "    <tr>\n",
              "      <th>0</th>\n",
              "      <td>Inception</td>\n",
              "      <td>8.8</td>\n",
              "      <td>2010</td>\n",
              "      <td>8.7</td>\n",
              "      <td>Netflix</td>\n",
              "    </tr>\n",
              "    <tr>\n",
              "      <th>1</th>\n",
              "      <td>The Matrix</td>\n",
              "      <td>8.7</td>\n",
              "      <td>1999</td>\n",
              "      <td>8.7</td>\n",
              "      <td>Netflix</td>\n",
              "    </tr>\n",
              "    <tr>\n",
              "      <th>2</th>\n",
              "      <td>Avengers: Infinity War</td>\n",
              "      <td>8.5</td>\n",
              "      <td>2018</td>\n",
              "      <td>8.4</td>\n",
              "      <td>Netflix</td>\n",
              "    </tr>\n",
              "    <tr>\n",
              "      <th>3</th>\n",
              "      <td>Back to the Future</td>\n",
              "      <td>8.5</td>\n",
              "      <td>1985</td>\n",
              "      <td>9.6</td>\n",
              "      <td>Netflix</td>\n",
              "    </tr>\n",
              "    <tr>\n",
              "      <th>4</th>\n",
              "      <td>The Good, the Bad and the Ugly</td>\n",
              "      <td>8.8</td>\n",
              "      <td>1966</td>\n",
              "      <td>9.7</td>\n",
              "      <td>Netflix</td>\n",
              "    </tr>\n",
              "    <tr>\n",
              "      <th>...</th>\n",
              "      <td>...</td>\n",
              "      <td>...</td>\n",
              "      <td>...</td>\n",
              "      <td>...</td>\n",
              "      <td>...</td>\n",
              "    </tr>\n",
              "    <tr>\n",
              "      <th>66971</th>\n",
              "      <td>The Ghosts of Buxley Hall</td>\n",
              "      <td>6.2</td>\n",
              "      <td>1980</td>\n",
              "      <td>6.5</td>\n",
              "      <td>Disney+</td>\n",
              "    </tr>\n",
              "    <tr>\n",
              "      <th>66972</th>\n",
              "      <td>The Poof Point</td>\n",
              "      <td>4.7</td>\n",
              "      <td>2001</td>\n",
              "      <td>6.5</td>\n",
              "      <td>Disney+</td>\n",
              "    </tr>\n",
              "    <tr>\n",
              "      <th>66973</th>\n",
              "      <td>Sharks of Lost Island</td>\n",
              "      <td>5.7</td>\n",
              "      <td>2013</td>\n",
              "      <td>6.5</td>\n",
              "      <td>Disney+</td>\n",
              "    </tr>\n",
              "    <tr>\n",
              "      <th>66974</th>\n",
              "      <td>Man Among Cheetahs</td>\n",
              "      <td>6.6</td>\n",
              "      <td>2017</td>\n",
              "      <td>6.5</td>\n",
              "      <td>Disney+</td>\n",
              "    </tr>\n",
              "    <tr>\n",
              "      <th>66975</th>\n",
              "      <td>In Beaver Valley</td>\n",
              "      <td>5.9</td>\n",
              "      <td>1950</td>\n",
              "      <td>6.5</td>\n",
              "      <td>Disney+</td>\n",
              "    </tr>\n",
              "  </tbody>\n",
              "</table>\n",
              "<p>17381 rows × 5 columns</p>\n",
              "</div>"
            ],
            "text/plain": [
              "                                Title  IMDb  Year  Rotten Tomatoes Platform\n",
              "0                           Inception   8.8  2010              8.7  Netflix\n",
              "1                          The Matrix   8.7  1999              8.7  Netflix\n",
              "2              Avengers: Infinity War   8.5  2018              8.4  Netflix\n",
              "3                  Back to the Future   8.5  1985              9.6  Netflix\n",
              "4      The Good, the Bad and the Ugly   8.8  1966              9.7  Netflix\n",
              "...                               ...   ...   ...              ...      ...\n",
              "66971       The Ghosts of Buxley Hall   6.2  1980              6.5  Disney+\n",
              "66972                  The Poof Point   4.7  2001              6.5  Disney+\n",
              "66973           Sharks of Lost Island   5.7  2013              6.5  Disney+\n",
              "66974              Man Among Cheetahs   6.6  2017              6.5  Disney+\n",
              "66975                In Beaver Valley   5.9  1950              6.5  Disney+\n",
              "\n",
              "[17381 rows x 5 columns]"
            ]
          },
          "execution_count": 498,
          "metadata": {},
          "output_type": "execute_result"
        }
      ],
      "source": [
        "# Melting the dataset to transform platform columns into rows\n",
        "Platforms_df = movie.melt(id_vars=['Title', 'IMDb'], \n",
        "                          value_vars=['Netflix', 'Hulu', 'Prime Video', 'Disney+'], \n",
        "                          var_name='Platform', \n",
        "                          value_name='Available')\n",
        "\n",
        "# Filtering out movies that are NOT available (Available == 0)\n",
        "Platforms_df = Platforms_df[Platforms_df['Available'] == 1].drop(columns=['Available'])\n",
        "\n",
        "Platforms_df.head()\n",
        "Platforms_df\n",
        "#------------------------\n",
        "Platforms_df1 = movie.melt(id_vars=['Title', 'IMDb','Year','Rotten Tomatoes'], \n",
        "                          value_vars=['Netflix', 'Hulu', 'Prime Video', 'Disney+'], \n",
        "                          var_name='Platform', \n",
        "                          value_name='Available')\n",
        "Platforms_df1 = Platforms_df1[Platforms_df1['Available'] == 1].drop(columns=['Available'])\n",
        "\n",
        "Platforms_df1.head()\n",
        "Platforms_df1\n"
      ]
    },
    {
      "cell_type": "code",
      "execution_count": 499,
      "metadata": {
        "id": "6f-ljFaXWquW"
      },
      "outputs": [
        {
          "data": {
            "text/html": [
              "<div>\n",
              "<style scoped>\n",
              "    .dataframe tbody tr th:only-of-type {\n",
              "        vertical-align: middle;\n",
              "    }\n",
              "\n",
              "    .dataframe tbody tr th {\n",
              "        vertical-align: top;\n",
              "    }\n",
              "\n",
              "    .dataframe thead th {\n",
              "        text-align: right;\n",
              "    }\n",
              "</style>\n",
              "<table border=\"1\" class=\"dataframe\">\n",
              "  <thead>\n",
              "    <tr style=\"text-align: right;\">\n",
              "      <th></th>\n",
              "      <th>Title</th>\n",
              "      <th>IMDb</th>\n",
              "      <th>Directors</th>\n",
              "    </tr>\n",
              "  </thead>\n",
              "  <tbody>\n",
              "    <tr>\n",
              "      <th>0</th>\n",
              "      <td>Inception</td>\n",
              "      <td>8.8</td>\n",
              "      <td>Christopher Nolan</td>\n",
              "    </tr>\n",
              "    <tr>\n",
              "      <th>1</th>\n",
              "      <td>The Matrix</td>\n",
              "      <td>8.7</td>\n",
              "      <td>Lana Wachowski</td>\n",
              "    </tr>\n",
              "    <tr>\n",
              "      <th>1</th>\n",
              "      <td>The Matrix</td>\n",
              "      <td>8.7</td>\n",
              "      <td>Lilly Wachowski</td>\n",
              "    </tr>\n",
              "    <tr>\n",
              "      <th>2</th>\n",
              "      <td>Avengers: Infinity War</td>\n",
              "      <td>8.5</td>\n",
              "      <td>Anthony Russo</td>\n",
              "    </tr>\n",
              "    <tr>\n",
              "      <th>2</th>\n",
              "      <td>Avengers: Infinity War</td>\n",
              "      <td>8.5</td>\n",
              "      <td>Joe Russo</td>\n",
              "    </tr>\n",
              "  </tbody>\n",
              "</table>\n",
              "</div>"
            ],
            "text/plain": [
              "                    Title  IMDb          Directors\n",
              "0               Inception   8.8  Christopher Nolan\n",
              "1              The Matrix   8.7     Lana Wachowski\n",
              "1              The Matrix   8.7    Lilly Wachowski\n",
              "2  Avengers: Infinity War   8.5      Anthony Russo\n",
              "2  Avengers: Infinity War   8.5          Joe Russo"
            ]
          },
          "execution_count": 499,
          "metadata": {},
          "output_type": "execute_result"
        }
      ],
      "source": [
        "# Splitting 'Directors' column\n",
        "directors_split = movie['Directors'].str.split(',')\n",
        "Directors = directors_split.explode()\n",
        "\n",
        "# Creating Directors_df\n",
        "Directors_df = pd.merge(movie[['Title', 'IMDb']], Directors, left_index=True, right_index=True)\n",
        "Directors_df.head()"
      ]
    },
    {
      "cell_type": "code",
      "execution_count": 500,
      "metadata": {},
      "outputs": [
        {
          "data": {
            "text/html": [
              "<div>\n",
              "<style scoped>\n",
              "    .dataframe tbody tr th:only-of-type {\n",
              "        vertical-align: middle;\n",
              "    }\n",
              "\n",
              "    .dataframe tbody tr th {\n",
              "        vertical-align: top;\n",
              "    }\n",
              "\n",
              "    .dataframe thead th {\n",
              "        text-align: right;\n",
              "    }\n",
              "</style>\n",
              "<table border=\"1\" class=\"dataframe\">\n",
              "  <thead>\n",
              "    <tr style=\"text-align: right;\">\n",
              "      <th></th>\n",
              "      <th>Title</th>\n",
              "      <th>IMDb</th>\n",
              "      <th>Genres</th>\n",
              "      <th>Country</th>\n",
              "    </tr>\n",
              "  </thead>\n",
              "  <tbody>\n",
              "    <tr>\n",
              "      <th>0</th>\n",
              "      <td>Inception</td>\n",
              "      <td>8.8</td>\n",
              "      <td>Action,Adventure,Sci-Fi,Thriller</td>\n",
              "      <td>United States</td>\n",
              "    </tr>\n",
              "    <tr>\n",
              "      <th>1</th>\n",
              "      <td>The Matrix</td>\n",
              "      <td>8.7</td>\n",
              "      <td>Action,Sci-Fi</td>\n",
              "      <td>United Kingdom</td>\n",
              "    </tr>\n",
              "    <tr>\n",
              "      <th>2</th>\n",
              "      <td>Avengers: Infinity War</td>\n",
              "      <td>8.5</td>\n",
              "      <td>Action,Adventure,Sci-Fi</td>\n",
              "      <td>United States</td>\n",
              "    </tr>\n",
              "    <tr>\n",
              "      <th>3</th>\n",
              "      <td>Back to the Future</td>\n",
              "      <td>8.5</td>\n",
              "      <td>Adventure,Comedy,Sci-Fi</td>\n",
              "      <td>United States</td>\n",
              "    </tr>\n",
              "    <tr>\n",
              "      <th>4</th>\n",
              "      <td>The Good, the Bad and the Ugly</td>\n",
              "      <td>8.8</td>\n",
              "      <td>Western</td>\n",
              "      <td>United States</td>\n",
              "    </tr>\n",
              "  </tbody>\n",
              "</table>\n",
              "</div>"
            ],
            "text/plain": [
              "                            Title  IMDb                            Genres  \\\n",
              "0                       Inception   8.8  Action,Adventure,Sci-Fi,Thriller   \n",
              "1                      The Matrix   8.7                     Action,Sci-Fi   \n",
              "2          Avengers: Infinity War   8.5           Action,Adventure,Sci-Fi   \n",
              "3              Back to the Future   8.5           Adventure,Comedy,Sci-Fi   \n",
              "4  The Good, the Bad and the Ugly   8.8                           Western   \n",
              "\n",
              "          Country  \n",
              "0   United States  \n",
              "1  United Kingdom  \n",
              "2   United States  \n",
              "3   United States  \n",
              "4   United States  "
            ]
          },
          "execution_count": 500,
          "metadata": {},
          "output_type": "execute_result"
        }
      ],
      "source": [
        "#Splitting 'Country' column\n",
        "Country_spilt=movie[\"Country\"].str.split(',')\n",
        "Country=Country_spilt.explode(\"Country_spilt\")\n",
        "\n",
        "#creating Country_df\n",
        "Country_df=pd.merge(movie[['Title', 'IMDb','Genres']], Country, left_index=True, right_index=True)\n",
        "Country_df.head()"
      ]
    },
    {
      "cell_type": "code",
      "execution_count": 501,
      "metadata": {
        "id": "12Kqi4uWWqdE"
      },
      "outputs": [],
      "source": [
        "# Defining runtime categories\n",
        "bins = [0, 60, 120, 180, 300]  # (in minutes)\n",
        "labels = ['Short (<60 min)', 'Medium (60-120 min)', 'Long (120-180 min)', 'Very Long (>180 min)']\n",
        "movie['Runtime Category'] = pd.cut(movie['Runtime'], bins=bins, labels=labels, right=False)\n"
      ]
    },
    {
      "cell_type": "code",
      "execution_count": 502,
      "metadata": {
        "id": "cm1FQnxfWqXY"
      },
      "outputs": [
        {
          "data": {
            "text/html": [
              "<div>\n",
              "<style scoped>\n",
              "    .dataframe tbody tr th:only-of-type {\n",
              "        vertical-align: middle;\n",
              "    }\n",
              "\n",
              "    .dataframe tbody tr th {\n",
              "        vertical-align: top;\n",
              "    }\n",
              "\n",
              "    .dataframe thead th {\n",
              "        text-align: right;\n",
              "    }\n",
              "</style>\n",
              "<table border=\"1\" class=\"dataframe\">\n",
              "  <thead>\n",
              "    <tr style=\"text-align: right;\">\n",
              "      <th></th>\n",
              "      <th>ID</th>\n",
              "      <th>Title</th>\n",
              "      <th>Year</th>\n",
              "      <th>Age</th>\n",
              "      <th>IMDb</th>\n",
              "      <th>Rotten Tomatoes</th>\n",
              "      <th>Netflix</th>\n",
              "      <th>Hulu</th>\n",
              "      <th>Prime Video</th>\n",
              "      <th>Disney+</th>\n",
              "      <th>Type</th>\n",
              "      <th>Directors</th>\n",
              "      <th>Genres</th>\n",
              "      <th>Country</th>\n",
              "      <th>Language</th>\n",
              "      <th>Runtime</th>\n",
              "      <th>Runtime Category</th>\n",
              "    </tr>\n",
              "  </thead>\n",
              "  <tbody>\n",
              "    <tr>\n",
              "      <th>0</th>\n",
              "      <td>1</td>\n",
              "      <td>Inception</td>\n",
              "      <td>2010</td>\n",
              "      <td>13+</td>\n",
              "      <td>8.8</td>\n",
              "      <td>8.7</td>\n",
              "      <td>1</td>\n",
              "      <td>0</td>\n",
              "      <td>0</td>\n",
              "      <td>0</td>\n",
              "      <td>0</td>\n",
              "      <td>Christopher Nolan</td>\n",
              "      <td>Action,Adventure,Sci-Fi,Thriller</td>\n",
              "      <td>United States,United Kingdom</td>\n",
              "      <td>English,Japanese,French</td>\n",
              "      <td>148.000000</td>\n",
              "      <td>Long (120-180 min)</td>\n",
              "    </tr>\n",
              "    <tr>\n",
              "      <th>1</th>\n",
              "      <td>2</td>\n",
              "      <td>The Matrix</td>\n",
              "      <td>1999</td>\n",
              "      <td>18+</td>\n",
              "      <td>8.7</td>\n",
              "      <td>8.7</td>\n",
              "      <td>1</td>\n",
              "      <td>0</td>\n",
              "      <td>0</td>\n",
              "      <td>0</td>\n",
              "      <td>0</td>\n",
              "      <td>Lana Wachowski,Lilly Wachowski</td>\n",
              "      <td>Action,Sci-Fi</td>\n",
              "      <td>United States</td>\n",
              "      <td>English</td>\n",
              "      <td>136.000000</td>\n",
              "      <td>Long (120-180 min)</td>\n",
              "    </tr>\n",
              "    <tr>\n",
              "      <th>2</th>\n",
              "      <td>3</td>\n",
              "      <td>Avengers: Infinity War</td>\n",
              "      <td>2018</td>\n",
              "      <td>13+</td>\n",
              "      <td>8.5</td>\n",
              "      <td>8.4</td>\n",
              "      <td>1</td>\n",
              "      <td>0</td>\n",
              "      <td>0</td>\n",
              "      <td>0</td>\n",
              "      <td>0</td>\n",
              "      <td>Anthony Russo,Joe Russo</td>\n",
              "      <td>Action,Adventure,Sci-Fi</td>\n",
              "      <td>United States</td>\n",
              "      <td>English</td>\n",
              "      <td>149.000000</td>\n",
              "      <td>Long (120-180 min)</td>\n",
              "    </tr>\n",
              "    <tr>\n",
              "      <th>3</th>\n",
              "      <td>4</td>\n",
              "      <td>Back to the Future</td>\n",
              "      <td>1985</td>\n",
              "      <td>7+</td>\n",
              "      <td>8.5</td>\n",
              "      <td>9.6</td>\n",
              "      <td>1</td>\n",
              "      <td>0</td>\n",
              "      <td>0</td>\n",
              "      <td>0</td>\n",
              "      <td>0</td>\n",
              "      <td>Robert Zemeckis</td>\n",
              "      <td>Adventure,Comedy,Sci-Fi</td>\n",
              "      <td>United States</td>\n",
              "      <td>English</td>\n",
              "      <td>116.000000</td>\n",
              "      <td>Medium (60-120 min)</td>\n",
              "    </tr>\n",
              "    <tr>\n",
              "      <th>4</th>\n",
              "      <td>5</td>\n",
              "      <td>The Good, the Bad and the Ugly</td>\n",
              "      <td>1966</td>\n",
              "      <td>18+</td>\n",
              "      <td>8.8</td>\n",
              "      <td>9.7</td>\n",
              "      <td>1</td>\n",
              "      <td>0</td>\n",
              "      <td>1</td>\n",
              "      <td>0</td>\n",
              "      <td>0</td>\n",
              "      <td>Sergio Leone</td>\n",
              "      <td>Western</td>\n",
              "      <td>Italy,Spain,West Germany</td>\n",
              "      <td>Italian</td>\n",
              "      <td>161.000000</td>\n",
              "      <td>Long (120-180 min)</td>\n",
              "    </tr>\n",
              "    <tr>\n",
              "      <th>...</th>\n",
              "      <td>...</td>\n",
              "      <td>...</td>\n",
              "      <td>...</td>\n",
              "      <td>...</td>\n",
              "      <td>...</td>\n",
              "      <td>...</td>\n",
              "      <td>...</td>\n",
              "      <td>...</td>\n",
              "      <td>...</td>\n",
              "      <td>...</td>\n",
              "      <td>...</td>\n",
              "      <td>...</td>\n",
              "      <td>...</td>\n",
              "      <td>...</td>\n",
              "      <td>...</td>\n",
              "      <td>...</td>\n",
              "      <td>...</td>\n",
              "    </tr>\n",
              "    <tr>\n",
              "      <th>16739</th>\n",
              "      <td>16740</td>\n",
              "      <td>The Ghosts of Buxley Hall</td>\n",
              "      <td>1980</td>\n",
              "      <td>18+</td>\n",
              "      <td>6.2</td>\n",
              "      <td>6.5</td>\n",
              "      <td>0</td>\n",
              "      <td>0</td>\n",
              "      <td>0</td>\n",
              "      <td>1</td>\n",
              "      <td>0</td>\n",
              "      <td>Bruce Bilson</td>\n",
              "      <td>Comedy,Family,Fantasy,Horror</td>\n",
              "      <td>United States</td>\n",
              "      <td>English</td>\n",
              "      <td>120.000000</td>\n",
              "      <td>Long (120-180 min)</td>\n",
              "    </tr>\n",
              "    <tr>\n",
              "      <th>16740</th>\n",
              "      <td>16741</td>\n",
              "      <td>The Poof Point</td>\n",
              "      <td>2001</td>\n",
              "      <td>7+</td>\n",
              "      <td>4.7</td>\n",
              "      <td>6.5</td>\n",
              "      <td>0</td>\n",
              "      <td>0</td>\n",
              "      <td>0</td>\n",
              "      <td>1</td>\n",
              "      <td>0</td>\n",
              "      <td>Neal Israel</td>\n",
              "      <td>Comedy,Family,Sci-Fi</td>\n",
              "      <td>United States</td>\n",
              "      <td>English</td>\n",
              "      <td>90.000000</td>\n",
              "      <td>Medium (60-120 min)</td>\n",
              "    </tr>\n",
              "    <tr>\n",
              "      <th>16741</th>\n",
              "      <td>16742</td>\n",
              "      <td>Sharks of Lost Island</td>\n",
              "      <td>2013</td>\n",
              "      <td>18+</td>\n",
              "      <td>5.7</td>\n",
              "      <td>6.5</td>\n",
              "      <td>0</td>\n",
              "      <td>0</td>\n",
              "      <td>0</td>\n",
              "      <td>1</td>\n",
              "      <td>0</td>\n",
              "      <td>Neil Gelinas</td>\n",
              "      <td>Documentary</td>\n",
              "      <td>United States</td>\n",
              "      <td>English</td>\n",
              "      <td>93.413447</td>\n",
              "      <td>Medium (60-120 min)</td>\n",
              "    </tr>\n",
              "    <tr>\n",
              "      <th>16742</th>\n",
              "      <td>16743</td>\n",
              "      <td>Man Among Cheetahs</td>\n",
              "      <td>2017</td>\n",
              "      <td>18+</td>\n",
              "      <td>6.6</td>\n",
              "      <td>6.5</td>\n",
              "      <td>0</td>\n",
              "      <td>0</td>\n",
              "      <td>0</td>\n",
              "      <td>1</td>\n",
              "      <td>0</td>\n",
              "      <td>Richard Slater-Jones</td>\n",
              "      <td>Documentary</td>\n",
              "      <td>United States</td>\n",
              "      <td>English</td>\n",
              "      <td>93.413447</td>\n",
              "      <td>Medium (60-120 min)</td>\n",
              "    </tr>\n",
              "    <tr>\n",
              "      <th>16743</th>\n",
              "      <td>16744</td>\n",
              "      <td>In Beaver Valley</td>\n",
              "      <td>1950</td>\n",
              "      <td>18+</td>\n",
              "      <td>5.9</td>\n",
              "      <td>6.5</td>\n",
              "      <td>0</td>\n",
              "      <td>0</td>\n",
              "      <td>0</td>\n",
              "      <td>1</td>\n",
              "      <td>0</td>\n",
              "      <td>James Algar</td>\n",
              "      <td>Documentary,Short,Family</td>\n",
              "      <td>United States</td>\n",
              "      <td>English</td>\n",
              "      <td>32.000000</td>\n",
              "      <td>Short (&lt;60 min)</td>\n",
              "    </tr>\n",
              "  </tbody>\n",
              "</table>\n",
              "<p>16744 rows × 17 columns</p>\n",
              "</div>"
            ],
            "text/plain": [
              "          ID                           Title  Year  Age  IMDb  \\\n",
              "0          1                       Inception  2010  13+   8.8   \n",
              "1          2                      The Matrix  1999  18+   8.7   \n",
              "2          3          Avengers: Infinity War  2018  13+   8.5   \n",
              "3          4              Back to the Future  1985   7+   8.5   \n",
              "4          5  The Good, the Bad and the Ugly  1966  18+   8.8   \n",
              "...      ...                             ...   ...  ...   ...   \n",
              "16739  16740       The Ghosts of Buxley Hall  1980  18+   6.2   \n",
              "16740  16741                  The Poof Point  2001   7+   4.7   \n",
              "16741  16742           Sharks of Lost Island  2013  18+   5.7   \n",
              "16742  16743              Man Among Cheetahs  2017  18+   6.6   \n",
              "16743  16744                In Beaver Valley  1950  18+   5.9   \n",
              "\n",
              "       Rotten Tomatoes  Netflix  Hulu  Prime Video  Disney+  Type  \\\n",
              "0                  8.7        1     0            0        0     0   \n",
              "1                  8.7        1     0            0        0     0   \n",
              "2                  8.4        1     0            0        0     0   \n",
              "3                  9.6        1     0            0        0     0   \n",
              "4                  9.7        1     0            1        0     0   \n",
              "...                ...      ...   ...          ...      ...   ...   \n",
              "16739              6.5        0     0            0        1     0   \n",
              "16740              6.5        0     0            0        1     0   \n",
              "16741              6.5        0     0            0        1     0   \n",
              "16742              6.5        0     0            0        1     0   \n",
              "16743              6.5        0     0            0        1     0   \n",
              "\n",
              "                            Directors                            Genres  \\\n",
              "0                   Christopher Nolan  Action,Adventure,Sci-Fi,Thriller   \n",
              "1      Lana Wachowski,Lilly Wachowski                     Action,Sci-Fi   \n",
              "2             Anthony Russo,Joe Russo           Action,Adventure,Sci-Fi   \n",
              "3                     Robert Zemeckis           Adventure,Comedy,Sci-Fi   \n",
              "4                        Sergio Leone                           Western   \n",
              "...                               ...                               ...   \n",
              "16739                    Bruce Bilson      Comedy,Family,Fantasy,Horror   \n",
              "16740                     Neal Israel              Comedy,Family,Sci-Fi   \n",
              "16741                    Neil Gelinas                       Documentary   \n",
              "16742            Richard Slater-Jones                       Documentary   \n",
              "16743                     James Algar          Documentary,Short,Family   \n",
              "\n",
              "                            Country                 Language     Runtime  \\\n",
              "0      United States,United Kingdom  English,Japanese,French  148.000000   \n",
              "1                     United States                  English  136.000000   \n",
              "2                     United States                  English  149.000000   \n",
              "3                     United States                  English  116.000000   \n",
              "4          Italy,Spain,West Germany                  Italian  161.000000   \n",
              "...                             ...                      ...         ...   \n",
              "16739                 United States                  English  120.000000   \n",
              "16740                 United States                  English   90.000000   \n",
              "16741                 United States                  English   93.413447   \n",
              "16742                 United States                  English   93.413447   \n",
              "16743                 United States                  English   32.000000   \n",
              "\n",
              "          Runtime Category  \n",
              "0       Long (120-180 min)  \n",
              "1       Long (120-180 min)  \n",
              "2       Long (120-180 min)  \n",
              "3      Medium (60-120 min)  \n",
              "4       Long (120-180 min)  \n",
              "...                    ...  \n",
              "16739   Long (120-180 min)  \n",
              "16740  Medium (60-120 min)  \n",
              "16741  Medium (60-120 min)  \n",
              "16742  Medium (60-120 min)  \n",
              "16743      Short (<60 min)  \n",
              "\n",
              "[16744 rows x 17 columns]"
            ]
          },
          "execution_count": 502,
          "metadata": {},
          "output_type": "execute_result"
        }
      ],
      "source": [
        "movie"
      ]
    },
    {
      "cell_type": "markdown",
      "metadata": {},
      "source": [
        "# DATA ANALYSIS"
      ]
    },
    {
      "cell_type": "markdown",
      "metadata": {},
      "source": [
        "# How many unique movies are in the dataset?"
      ]
    },
    {
      "cell_type": "code",
      "execution_count": 503,
      "metadata": {},
      "outputs": [
        {
          "data": {
            "text/plain": [
              "16744"
            ]
          },
          "execution_count": 503,
          "metadata": {},
          "output_type": "execute_result"
        }
      ],
      "source": [
        "\n",
        "# pd.unique(movie['Title'])\n",
        "movie['Title'].nunique()"
      ]
    },
    {
      "cell_type": "markdown",
      "metadata": {},
      "source": [
        "# what is the average IMDB rating of all movies"
      ]
    },
    {
      "cell_type": "code",
      "execution_count": 504,
      "metadata": {},
      "outputs": [
        {
          "data": {
            "text/plain": [
              "np.float64(5.902657668418538)"
            ]
          },
          "execution_count": 504,
          "metadata": {},
          "output_type": "execute_result"
        }
      ],
      "source": [
        "\n",
        "movie.loc[::,['IMDb']].mean()\n",
        "#------------------------OR\n",
        "movie['IMDb'].mean()"
      ]
    },
    {
      "cell_type": "code",
      "execution_count": 505,
      "metadata": {},
      "outputs": [
        {
          "data": {
            "text/plain": [
              "16744"
            ]
          },
          "execution_count": 505,
          "metadata": {},
          "output_type": "execute_result"
        }
      ],
      "source": [
        "len(movie)"
      ]
    },
    {
      "cell_type": "markdown",
      "metadata": {},
      "source": [
        "# how many movies were released each year"
      ]
    },
    {
      "cell_type": "code",
      "execution_count": 506,
      "metadata": {},
      "outputs": [
        {
          "data": {
            "text/plain": [
              "Year\n",
              "1902       1\n",
              "1912       1\n",
              "1913       2\n",
              "1915       4\n",
              "1916       1\n",
              "        ... \n",
              "2016    1206\n",
              "2017    1401\n",
              "2018    1285\n",
              "2019     689\n",
              "2020     147\n",
              "Name: Year, Length: 109, dtype: int64"
            ]
          },
          "execution_count": 506,
          "metadata": {},
          "output_type": "execute_result"
        }
      ],
      "source": [
        "\n",
        "\n",
        "\n",
        "gp=movie.groupby(movie['Year'])\n",
        "gp['Year'].count()\n",
        "# .sort_values(ascending=False)\n",
        "\n",
        "\n"
      ]
    },
    {
      "cell_type": "markdown",
      "metadata": {},
      "source": [
        "# what is the most common genre in the data set"
      ]
    },
    {
      "cell_type": "code",
      "execution_count": 507,
      "metadata": {},
      "outputs": [
        {
          "data": {
            "text/plain": [
              "'Drama'"
            ]
          },
          "execution_count": 507,
          "metadata": {},
          "output_type": "execute_result"
        }
      ],
      "source": [
        "\n",
        "Genres_df['Genres'].mode()[0]\n",
        "#---------------or----------\n",
        "movie['Genres'].mode()[0]\n"
      ]
    },
    {
      "cell_type": "markdown",
      "metadata": {},
      "source": [
        "# what is the most common language for movies"
      ]
    },
    {
      "cell_type": "code",
      "execution_count": 508,
      "metadata": {},
      "outputs": [
        {
          "data": {
            "text/plain": [
              "'English'"
            ]
          },
          "execution_count": 508,
          "metadata": {},
          "output_type": "execute_result"
        }
      ],
      "source": [
        "\n",
        "Languages_df['Language'].mode()[0]\n",
        "#--------------or\n",
        "movie['Language'].mode()[0]"
      ]
    },
    {
      "cell_type": "code",
      "execution_count": 509,
      "metadata": {},
      "outputs": [
        {
          "data": {
            "text/plain": [
              "Index(['ID', 'Title', 'Year', 'Age', 'IMDb', 'Rotten Tomatoes', 'Netflix',\n",
              "       'Hulu', 'Prime Video', 'Disney+', 'Type', 'Directors', 'Genres',\n",
              "       'Country', 'Language', 'Runtime', 'Runtime Category'],\n",
              "      dtype='object')"
            ]
          },
          "execution_count": 509,
          "metadata": {},
          "output_type": "execute_result"
        }
      ],
      "source": [
        "movie.columns"
      ]
    },
    {
      "cell_type": "markdown",
      "metadata": {},
      "source": [
        "# How many movies are available on each streaming platform?"
      ]
    },
    {
      "cell_type": "code",
      "execution_count": 510,
      "metadata": {},
      "outputs": [
        {
          "data": {
            "text/plain": [
              "Netflix         3560\n",
              "Hulu             903\n",
              "Prime Video    12354\n",
              "Disney+          564\n",
              "dtype: int64"
            ]
          },
          "execution_count": 510,
          "metadata": {},
          "output_type": "execute_result"
        }
      ],
      "source": [
        "\n",
        "gp=Platforms_df.groupby('Platform')\n",
        "gp['Platform'].count()\n",
        "#-------or----------\n",
        "movie[['Netflix','Hulu', 'Prime Video', 'Disney+']].sum()\n",
        "#----------------------------or---------\n",
        "Platforms_df['Platform'].value_counts()\n",
        "#----------------or------------------\n",
        "plts=movie[['Netflix','Hulu', 'Prime Video', 'Disney+']]\n",
        "plts[plts==1].count()\n",
        "\n"
      ]
    },
    {
      "cell_type": "markdown",
      "metadata": {},
      "source": [
        "# Which platform has the highest average IMDb rating?"
      ]
    },
    {
      "cell_type": "code",
      "execution_count": 511,
      "metadata": {},
      "outputs": [
        {
          "data": {
            "text/plain": [
              "'Disney+'"
            ]
          },
          "execution_count": 511,
          "metadata": {},
          "output_type": "execute_result"
        }
      ],
      "source": [
        "\n",
        "# gp=movie.groupby(['Netflix','Hulu', 'Prime Video', 'Disney+'])\n",
        "# gp['IMDb'].mean().idxmax()\n",
        "#------------------------------------\n",
        "gp=Platforms_df.groupby('Platform')\n",
        "gp['IMDb'].mean().idxmax()"
      ]
    },
    {
      "cell_type": "code",
      "execution_count": 512,
      "metadata": {},
      "outputs": [
        {
          "data": {
            "text/plain": [
              "Index(['ID', 'Title', 'Year', 'Age', 'IMDb', 'Rotten Tomatoes', 'Netflix',\n",
              "       'Hulu', 'Prime Video', 'Disney+', 'Type', 'Directors', 'Genres',\n",
              "       'Country', 'Language', 'Runtime', 'Runtime Category'],\n",
              "      dtype='object')"
            ]
          },
          "execution_count": 512,
          "metadata": {},
          "output_type": "execute_result"
        }
      ],
      "source": [
        "movie.columns"
      ]
    },
    {
      "cell_type": "markdown",
      "metadata": {},
      "source": [
        "# Are there any movies available on all four platforms (Netflix, Hulu, Prime Video, Disney+)?"
      ]
    },
    {
      "cell_type": "code",
      "execution_count": 513,
      "metadata": {},
      "outputs": [
        {
          "data": {
            "text/html": [
              "<div>\n",
              "<style scoped>\n",
              "    .dataframe tbody tr th:only-of-type {\n",
              "        vertical-align: middle;\n",
              "    }\n",
              "\n",
              "    .dataframe tbody tr th {\n",
              "        vertical-align: top;\n",
              "    }\n",
              "\n",
              "    .dataframe thead th {\n",
              "        text-align: right;\n",
              "    }\n",
              "</style>\n",
              "<table border=\"1\" class=\"dataframe\">\n",
              "  <thead>\n",
              "    <tr style=\"text-align: right;\">\n",
              "      <th></th>\n",
              "      <th>ID</th>\n",
              "      <th>Title</th>\n",
              "      <th>Year</th>\n",
              "      <th>Age</th>\n",
              "      <th>IMDb</th>\n",
              "      <th>Rotten Tomatoes</th>\n",
              "      <th>Netflix</th>\n",
              "      <th>Hulu</th>\n",
              "      <th>Prime Video</th>\n",
              "      <th>Disney+</th>\n",
              "      <th>Type</th>\n",
              "      <th>Directors</th>\n",
              "      <th>Genres</th>\n",
              "      <th>Country</th>\n",
              "      <th>Language</th>\n",
              "      <th>Runtime</th>\n",
              "      <th>Runtime Category</th>\n",
              "    </tr>\n",
              "  </thead>\n",
              "  <tbody>\n",
              "  </tbody>\n",
              "</table>\n",
              "</div>"
            ],
            "text/plain": [
              "Empty DataFrame\n",
              "Columns: [ID, Title, Year, Age, IMDb, Rotten Tomatoes, Netflix, Hulu, Prime Video, Disney+, Type, Directors, Genres, Country, Language, Runtime, Runtime Category]\n",
              "Index: []"
            ]
          },
          "execution_count": 513,
          "metadata": {},
          "output_type": "execute_result"
        }
      ],
      "source": [
        "\n",
        "\n",
        "\n",
        "movie[movie[['Netflix','Hulu', 'Prime Video', 'Disney+']].sum(axis=1)==4]\n",
        "\n",
        "# movie.loc[Platforms_df['Title'].isin('gp'),['Title']]\n"
      ]
    },
    {
      "cell_type": "markdown",
      "metadata": {},
      "source": [
        "observation:"
      ]
    },
    {
      "cell_type": "markdown",
      "metadata": {},
      "source": [
        "# Which platform has the most movies with an IMDb rating above 8.0?"
      ]
    },
    {
      "cell_type": "code",
      "execution_count": 514,
      "metadata": {},
      "outputs": [
        {
          "data": {
            "text/plain": [
              "'Prime Video'"
            ]
          },
          "execution_count": 514,
          "metadata": {},
          "output_type": "execute_result"
        }
      ],
      "source": [
        "\n",
        "# cond=movie['IMDb']>8.0\n",
        "# movie.loc[cond,['Title']]\n",
        "#-----------or--------------\n",
        "cond=Platforms_df['IMDb']>8.0\n",
        "Platforms_df.loc[cond,['Platform']].value_counts().head(1)\n",
        "#--------------\n",
        "Platforms_df.loc[cond,['Platform']].mode()['Platform'][0]"
      ]
    },
    {
      "cell_type": "markdown",
      "metadata": {},
      "source": [
        "# Which platform has the most movies released after 2015?"
      ]
    },
    {
      "cell_type": "code",
      "execution_count": 515,
      "metadata": {},
      "outputs": [
        {
          "data": {
            "text/html": [
              "<div>\n",
              "<style scoped>\n",
              "    .dataframe tbody tr th:only-of-type {\n",
              "        vertical-align: middle;\n",
              "    }\n",
              "\n",
              "    .dataframe tbody tr th {\n",
              "        vertical-align: top;\n",
              "    }\n",
              "\n",
              "    .dataframe thead th {\n",
              "        text-align: right;\n",
              "    }\n",
              "</style>\n",
              "<table border=\"1\" class=\"dataframe\">\n",
              "  <thead>\n",
              "    <tr style=\"text-align: right;\">\n",
              "      <th></th>\n",
              "      <th>Platform</th>\n",
              "    </tr>\n",
              "  </thead>\n",
              "  <tbody>\n",
              "    <tr>\n",
              "      <th>0</th>\n",
              "      <td>Prime Video</td>\n",
              "    </tr>\n",
              "  </tbody>\n",
              "</table>\n",
              "</div>"
            ],
            "text/plain": [
              "      Platform\n",
              "0  Prime Video"
            ]
          },
          "execution_count": 515,
          "metadata": {},
          "output_type": "execute_result"
        }
      ],
      "source": [
        "\n",
        "# cond=movie['Year']>2015\n",
        "# movie.loc[cond,['Netflix','Hulu', 'Prime Video', 'Disney+']]\n",
        "#----------------------------------------------------------------\n",
        "cond=Platforms_df1['Year']>2015\n",
        "Platforms_df1.loc[cond,['Platform']].value_counts().head(1)\n",
        "#-------------------------------------\n",
        "Platforms_df1.loc[cond,['Platform']].mode()"
      ]
    },
    {
      "cell_type": "markdown",
      "metadata": {},
      "source": [
        "# What are the top 5 genres with the most movies?"
      ]
    },
    {
      "cell_type": "code",
      "execution_count": 516,
      "metadata": {},
      "outputs": [
        {
          "data": {
            "text/plain": [
              "Genres\n",
              "Drama           1341\n",
              "Documentary     1229\n",
              "Comedy          1040\n",
              "Comedy,Drama     446\n",
              "Horror           436\n",
              "Name: count, dtype: int64"
            ]
          },
          "execution_count": 516,
          "metadata": {},
          "output_type": "execute_result"
        }
      ],
      "source": [
        "\n",
        "movie['Genres'].value_counts().head()\n",
        "\n",
        "#------------------or-----------------\n",
        "\n"
      ]
    },
    {
      "cell_type": "code",
      "execution_count": 517,
      "metadata": {},
      "outputs": [],
      "source": [
        "# Genres_df['Genres'].value_counts().head()\n"
      ]
    },
    {
      "cell_type": "markdown",
      "metadata": {},
      "source": [
        "# Which genre has the highest average IMDb rating?"
      ]
    },
    {
      "cell_type": "code",
      "execution_count": 518,
      "metadata": {},
      "outputs": [
        {
          "data": {
            "text/plain": [
              "'News'"
            ]
          },
          "execution_count": 518,
          "metadata": {},
          "output_type": "execute_result"
        }
      ],
      "source": [
        "\n",
        "gp=Genres_df.groupby('Genres')\n",
        "gp['IMDb'].mean().idxmax()"
      ]
    },
    {
      "cell_type": "markdown",
      "metadata": {},
      "source": [
        "# What is the most popular genre on Netflix?"
      ]
    },
    {
      "cell_type": "code",
      "execution_count": 519,
      "metadata": {},
      "outputs": [
        {
          "data": {
            "text/html": [
              "<div>\n",
              "<style scoped>\n",
              "    .dataframe tbody tr th:only-of-type {\n",
              "        vertical-align: middle;\n",
              "    }\n",
              "\n",
              "    .dataframe tbody tr th {\n",
              "        vertical-align: top;\n",
              "    }\n",
              "\n",
              "    .dataframe thead th {\n",
              "        text-align: right;\n",
              "    }\n",
              "</style>\n",
              "<table border=\"1\" class=\"dataframe\">\n",
              "  <thead>\n",
              "    <tr style=\"text-align: right;\">\n",
              "      <th></th>\n",
              "      <th>Genres</th>\n",
              "    </tr>\n",
              "  </thead>\n",
              "  <tbody>\n",
              "    <tr>\n",
              "      <th>0</th>\n",
              "      <td>Comedy</td>\n",
              "    </tr>\n",
              "  </tbody>\n",
              "</table>\n",
              "</div>"
            ],
            "text/plain": [
              "   Genres\n",
              "0  Comedy"
            ]
          },
          "execution_count": 519,
          "metadata": {},
          "output_type": "execute_result"
        }
      ],
      "source": [
        "\n",
        "cond=movie['Netflix']==1\n",
        "movie.loc[cond,['Genres']].mode()"
      ]
    },
    {
      "cell_type": "markdown",
      "metadata": {},
      "source": [
        "# How many movies in the Comedy genre have an IMDb rating above 7.5?"
      ]
    },
    {
      "cell_type": "code",
      "execution_count": 520,
      "metadata": {},
      "outputs": [
        {
          "data": {
            "text/plain": [
              "np.int64(316)"
            ]
          },
          "execution_count": 520,
          "metadata": {},
          "output_type": "execute_result"
        }
      ],
      "source": [
        "\n",
        "cond=(Genres_df['Genres']=='Comedy') & (Genres_df['IMDb']>7.5)\n",
        "Genres_df.loc[cond,['Title']].value_counts().count()"
      ]
    },
    {
      "cell_type": "markdown",
      "metadata": {},
      "source": [
        "# What is the average IMDb rating for Horror movies?"
      ]
    },
    {
      "cell_type": "code",
      "execution_count": 521,
      "metadata": {},
      "outputs": [
        {
          "data": {
            "text/plain": [
              "np.float64(4.730713312130849)"
            ]
          },
          "execution_count": 521,
          "metadata": {},
          "output_type": "execute_result"
        }
      ],
      "source": [
        "\n",
        "cond=Genres_df['Genres']=='Horror'\n",
        "Genres_df.loc[cond,'IMDb'].mean()"
      ]
    },
    {
      "cell_type": "markdown",
      "metadata": {},
      "source": [
        "# Who are the top 5 directors with the most movies in the dataset?"
      ]
    },
    {
      "cell_type": "code",
      "execution_count": 522,
      "metadata": {},
      "outputs": [
        {
          "data": {
            "text/plain": [
              "Directors\n",
              "unknown           726\n",
              "Jay Chapman        36\n",
              "Joseph Kane        31\n",
              "Cheh Chang         29\n",
              "Jim Wynorski       23\n",
              "                 ... \n",
              "Frankie Chung       1\n",
              "Paul Kenworthy      1\n",
              "Ralph Wright        1\n",
              "David Grossman      1\n",
              "Mark Davis          1\n",
              "Name: count, Length: 12454, dtype: int64"
            ]
          },
          "execution_count": 522,
          "metadata": {},
          "output_type": "execute_result"
        }
      ],
      "source": [
        "\n",
        "Directors_df['Directors'].value_counts()"
      ]
    },
    {
      "cell_type": "markdown",
      "metadata": {},
      "source": [
        "# Which director has the highest average IMDb rating?"
      ]
    },
    {
      "cell_type": "code",
      "execution_count": 523,
      "metadata": {},
      "outputs": [
        {
          "data": {
            "text/plain": [
              "'Danny Wu'"
            ]
          },
          "execution_count": 523,
          "metadata": {},
          "output_type": "execute_result"
        }
      ],
      "source": [
        "\n",
        "# gp=Directors_df.groupby(['Directors'])\n",
        "# gp['IMDb'].mean().idxmax()\n",
        "#--------------------------------------------------\n",
        "gp=movie.groupby(['Directors'])\n",
        "gp['IMDb'].mean().idxmax()"
      ]
    },
    {
      "cell_type": "markdown",
      "metadata": {},
      "source": [
        "# Which director has made the most Action movies?"
      ]
    },
    {
      "cell_type": "code",
      "execution_count": 524,
      "metadata": {},
      "outputs": [
        {
          "data": {
            "text/html": [
              "<div>\n",
              "<style scoped>\n",
              "    .dataframe tbody tr th:only-of-type {\n",
              "        vertical-align: middle;\n",
              "    }\n",
              "\n",
              "    .dataframe tbody tr th {\n",
              "        vertical-align: top;\n",
              "    }\n",
              "\n",
              "    .dataframe thead th {\n",
              "        text-align: right;\n",
              "    }\n",
              "</style>\n",
              "<table border=\"1\" class=\"dataframe\">\n",
              "  <thead>\n",
              "    <tr style=\"text-align: right;\">\n",
              "      <th></th>\n",
              "      <th>Directors</th>\n",
              "    </tr>\n",
              "  </thead>\n",
              "  <tbody>\n",
              "    <tr>\n",
              "      <th>0</th>\n",
              "      <td>unknown</td>\n",
              "    </tr>\n",
              "  </tbody>\n",
              "</table>\n",
              "</div>"
            ],
            "text/plain": [
              "  Directors\n",
              "0   unknown"
            ]
          },
          "execution_count": 524,
          "metadata": {},
          "output_type": "execute_result"
        }
      ],
      "source": [
        "pd.concat([Platforms_df,Genres_df])\n",
        "dir_ge=pd.merge(left=Genres_df,right=Directors_df,how='left' ,on='Title')\n",
        "dir_ge\n",
        "cond=dir_ge['Genres']=='Action' \n",
        "dir_ge.loc[cond,['Directors']].value_counts()\n",
        "dir_ge.loc[cond,['Directors']].mode()\n",
        "\n",
        "\n",
        "#--------------------------------------------------------------------------------\n",
        "\n",
        "\n",
        "# movie.loc[(movie['Genres']=='Action'),'Directors'].value_counts().head()\n",
        "\n"
      ]
    },
    {
      "cell_type": "markdown",
      "metadata": {},
      "source": [
        "# What is the average IMDb rating of movies directed by Christopher Nolan?"
      ]
    },
    {
      "cell_type": "code",
      "execution_count": 525,
      "metadata": {},
      "outputs": [
        {
          "data": {
            "text/plain": [
              "IMDb    8.3\n",
              "dtype: float64"
            ]
          },
          "execution_count": 525,
          "metadata": {},
          "output_type": "execute_result"
        }
      ],
      "source": [
        "cond=movie['Directors']=='Christopher Nolan'\n",
        "movie.loc[cond,['IMDb']].mean()"
      ]
    },
    {
      "cell_type": "markdown",
      "metadata": {},
      "source": [
        "\n",
        "# What are the top 5 most common languages in the dataset"
      ]
    },
    {
      "cell_type": "code",
      "execution_count": 526,
      "metadata": {},
      "outputs": [
        {
          "data": {
            "text/plain": [
              "Language\n",
              "English    13233\n",
              "Spanish      872\n",
              "French       799\n",
              "Hindi        731\n",
              "unknown      614\n",
              "Name: count, dtype: int64"
            ]
          },
          "execution_count": 526,
          "metadata": {},
          "output_type": "execute_result"
        }
      ],
      "source": [
        "Languages_df['Language'].value_counts().head()"
      ]
    },
    {
      "cell_type": "markdown",
      "metadata": {},
      "source": [
        "# What is the average IMDb rating of French movies?"
      ]
    },
    {
      "cell_type": "code",
      "execution_count": 527,
      "metadata": {},
      "outputs": [
        {
          "data": {
            "text/plain": [
              "IMDb    6.223926\n",
              "dtype: float64"
            ]
          },
          "execution_count": 527,
          "metadata": {},
          "output_type": "execute_result"
        }
      ],
      "source": [
        "cond=Languages_df['Language']==\"French\"\n",
        "Languages_df.loc[cond,['IMDb']].mean()\n",
        "#-------------------or------------------------------\n",
        "cond=movie['Language']==\"French\"\n",
        "movie.loc[cond,['IMDb']].mean()"
      ]
    },
    {
      "cell_type": "markdown",
      "metadata": {},
      "source": [
        "# How many movies are from the United States?"
      ]
    },
    {
      "cell_type": "code",
      "execution_count": 528,
      "metadata": {},
      "outputs": [
        {
          "data": {
            "text/plain": [
              "Country      \n",
              "United States    8776\n",
              "Name: count, dtype: int64"
            ]
          },
          "execution_count": 528,
          "metadata": {},
          "output_type": "execute_result"
        }
      ],
      "source": [
        "cond=movie['Country']=='United States'\n",
        "movie.loc[cond,['Country']].value_counts()"
      ]
    },
    {
      "cell_type": "markdown",
      "metadata": {},
      "source": [
        "# Which country has produced the most Drama movies?"
      ]
    },
    {
      "cell_type": "code",
      "execution_count": 529,
      "metadata": {},
      "outputs": [
        {
          "data": {
            "text/html": [
              "<div>\n",
              "<style scoped>\n",
              "    .dataframe tbody tr th:only-of-type {\n",
              "        vertical-align: middle;\n",
              "    }\n",
              "\n",
              "    .dataframe tbody tr th {\n",
              "        vertical-align: top;\n",
              "    }\n",
              "\n",
              "    .dataframe thead th {\n",
              "        text-align: right;\n",
              "    }\n",
              "</style>\n",
              "<table border=\"1\" class=\"dataframe\">\n",
              "  <thead>\n",
              "    <tr style=\"text-align: right;\">\n",
              "      <th></th>\n",
              "      <th>Country</th>\n",
              "    </tr>\n",
              "  </thead>\n",
              "  <tbody>\n",
              "    <tr>\n",
              "      <th>0</th>\n",
              "      <td>United States</td>\n",
              "    </tr>\n",
              "  </tbody>\n",
              "</table>\n",
              "</div>"
            ],
            "text/plain": [
              "         Country\n",
              "0  United States"
            ]
          },
          "execution_count": 529,
          "metadata": {},
          "output_type": "execute_result"
        }
      ],
      "source": [
        "cond=movie['Genres']=='Drama'\n",
        "movie.loc[cond,['Country']].mode()\n",
        "#----------------or------------------------\n",
        "cond=Country_df['Genres']=='Drama'\n",
        "Country_df.loc[cond,['Country','Genres']].value_counts()\n",
        "Country_df.loc[cond,['Country']].mode()"
      ]
    },
    {
      "cell_type": "markdown",
      "metadata": {},
      "source": [
        " # What is the most common language for movies on Hulu?"
      ]
    },
    {
      "cell_type": "code",
      "execution_count": 530,
      "metadata": {},
      "outputs": [
        {
          "data": {
            "text/plain": [
              "0    English\n",
              "Name: Language, dtype: object"
            ]
          },
          "execution_count": 530,
          "metadata": {},
          "output_type": "execute_result"
        }
      ],
      "source": [
        "#-------------or--------------------------------\n",
        "cond=movie['Hulu']==1\n",
        "movie.loc[cond,'Language'].mode()"
      ]
    },
    {
      "cell_type": "markdown",
      "metadata": {},
      "source": [
        "# IMDb and Rotten Tomatoes Score Analysis"
      ]
    },
    {
      "cell_type": "code",
      "execution_count": 531,
      "metadata": {},
      "outputs": [
        {
          "data": {
            "text/html": [
              "<div>\n",
              "<style scoped>\n",
              "    .dataframe tbody tr th:only-of-type {\n",
              "        vertical-align: middle;\n",
              "    }\n",
              "\n",
              "    .dataframe tbody tr th {\n",
              "        vertical-align: top;\n",
              "    }\n",
              "\n",
              "    .dataframe thead th {\n",
              "        text-align: right;\n",
              "    }\n",
              "</style>\n",
              "<table border=\"1\" class=\"dataframe\">\n",
              "  <thead>\n",
              "    <tr style=\"text-align: right;\">\n",
              "      <th></th>\n",
              "      <th>IMDb</th>\n",
              "      <th>Rotten Tomatoes</th>\n",
              "    </tr>\n",
              "  </thead>\n",
              "  <tbody>\n",
              "    <tr>\n",
              "      <th>IMDb</th>\n",
              "      <td>1.000000</td>\n",
              "      <td>0.261922</td>\n",
              "    </tr>\n",
              "    <tr>\n",
              "      <th>Rotten Tomatoes</th>\n",
              "      <td>0.261922</td>\n",
              "      <td>1.000000</td>\n",
              "    </tr>\n",
              "  </tbody>\n",
              "</table>\n",
              "</div>"
            ],
            "text/plain": [
              "                     IMDb  Rotten Tomatoes\n",
              "IMDb             1.000000         0.261922\n",
              "Rotten Tomatoes  0.261922         1.000000"
            ]
          },
          "execution_count": 531,
          "metadata": {},
          "output_type": "execute_result"
        }
      ],
      "source": [
        "movie.loc[::,['IMDb','Rotten Tomatoes']].corr()"
      ]
    },
    {
      "cell_type": "markdown",
      "metadata": {},
      "source": [
        "# How many movies by Steven Spielberg are available on Prime Video?"
      ]
    },
    {
      "cell_type": "code",
      "execution_count": 532,
      "metadata": {},
      "outputs": [
        {
          "data": {
            "text/plain": [
              "Title    1\n",
              "dtype: int64"
            ]
          },
          "execution_count": 532,
          "metadata": {},
          "output_type": "execute_result"
        }
      ],
      "source": [
        "#-------------or-----------------------------------\n",
        "cond=(movie['Directors']=='Steven Spielberg')&(movie['Prime Video']==1)\n",
        "movie.loc[cond,['Title']].count()"
      ]
    },
    {
      "cell_type": "markdown",
      "metadata": {},
      "source": [
        "# What is the highest IMDb rating in the dataset, and which movie has it?"
      ]
    },
    {
      "cell_type": "code",
      "execution_count": 537,
      "metadata": {},
      "outputs": [
        {
          "data": {
            "text/plain": [
              "Title    My Next Guest with David Letterman and Shah Ru...\n",
              "IMDb                                                   9.3\n",
              "Name: 1292, dtype: object"
            ]
          },
          "execution_count": 537,
          "metadata": {},
          "output_type": "execute_result"
        }
      ],
      "source": [
        "\n",
        "# max(movie['IMDb'])   #9.3\n",
        "# cond=movie['IMDb']>=9.3\n",
        "# movie.loc[cond,['Title','IMDb']].idxmax()\n",
        "#--------------or----------\n",
        "cond=movie['IMDb'].idxmax()\n",
        "movie.loc[cond,['Title','IMDb']]"
      ]
    },
    {
      "cell_type": "markdown",
      "metadata": {},
      "source": [
        "# What is the lowest Rotten Tomatoes score, and which movie has it?"
      ]
    },
    {
      "cell_type": "code",
      "execution_count": 536,
      "metadata": {},
      "outputs": [
        {
          "data": {
            "text/plain": [
              "Title              Getaway\n",
              "Rotten Tomatoes        0.2\n",
              "Name: 4208, dtype: object"
            ]
          },
          "execution_count": 536,
          "metadata": {},
          "output_type": "execute_result"
        }
      ],
      "source": [
        "# min(movie['Rotten Tomatoes']) #0.2\n",
        "# cond=movie['Rotten Tomatoes']<=0.2\n",
        "# movie.loc[cond,['Title','Rotten Tomatoes']]\n",
        "#--------------or----------------\n",
        "cond=movie['Rotten Tomatoes'].idxmin()\n",
        "movie.loc[cond,['Title','Rotten Tomatoes']]"
      ]
    },
    {
      "cell_type": "markdown",
      "metadata": {},
      "source": [
        "# What is the correlation between IMDb ratings and Rotten Tomatoes scores?"
      ]
    },
    {
      "cell_type": "code",
      "execution_count": null,
      "metadata": {},
      "outputs": [
        {
          "data": {
            "text/html": [
              "<div>\n",
              "<style scoped>\n",
              "    .dataframe tbody tr th:only-of-type {\n",
              "        vertical-align: middle;\n",
              "    }\n",
              "\n",
              "    .dataframe tbody tr th {\n",
              "        vertical-align: top;\n",
              "    }\n",
              "\n",
              "    .dataframe thead th {\n",
              "        text-align: right;\n",
              "    }\n",
              "</style>\n",
              "<table border=\"1\" class=\"dataframe\">\n",
              "  <thead>\n",
              "    <tr style=\"text-align: right;\">\n",
              "      <th></th>\n",
              "      <th>IMDb</th>\n",
              "      <th>Rotten Tomatoes</th>\n",
              "    </tr>\n",
              "  </thead>\n",
              "  <tbody>\n",
              "    <tr>\n",
              "      <th>IMDb</th>\n",
              "      <td>1.000000</td>\n",
              "      <td>0.261922</td>\n",
              "    </tr>\n",
              "    <tr>\n",
              "      <th>Rotten Tomatoes</th>\n",
              "      <td>0.261922</td>\n",
              "      <td>1.000000</td>\n",
              "    </tr>\n",
              "  </tbody>\n",
              "</table>\n",
              "</div>"
            ],
            "text/plain": [
              "                     IMDb  Rotten Tomatoes\n",
              "IMDb             1.000000         0.261922\n",
              "Rotten Tomatoes  0.261922         1.000000"
            ]
          },
          "execution_count": 459,
          "metadata": {},
          "output_type": "execute_result"
        }
      ],
      "source": [
        "movie.loc[::,['IMDb','Rotten Tomatoes']].corr()"
      ]
    },
    {
      "cell_type": "markdown",
      "metadata": {},
      "source": [
        "# How many movies have both IMDb rating above 8.0 and Rotten Tomatoes score above 90%?"
      ]
    },
    {
      "cell_type": "code",
      "execution_count": null,
      "metadata": {},
      "outputs": [
        {
          "data": {
            "text/html": [
              "<div>\n",
              "<style scoped>\n",
              "    .dataframe tbody tr th:only-of-type {\n",
              "        vertical-align: middle;\n",
              "    }\n",
              "\n",
              "    .dataframe tbody tr th {\n",
              "        vertical-align: top;\n",
              "    }\n",
              "\n",
              "    .dataframe thead th {\n",
              "        text-align: right;\n",
              "    }\n",
              "</style>\n",
              "<table border=\"1\" class=\"dataframe\">\n",
              "  <thead>\n",
              "    <tr style=\"text-align: right;\">\n",
              "      <th></th>\n",
              "      <th>Title</th>\n",
              "      <th>IMDb</th>\n",
              "      <th>Rotten Tomatoes</th>\n",
              "    </tr>\n",
              "  </thead>\n",
              "  <tbody>\n",
              "    <tr>\n",
              "      <th>3</th>\n",
              "      <td>Back to the Future</td>\n",
              "      <td>8.5</td>\n",
              "      <td>9.6</td>\n",
              "    </tr>\n",
              "    <tr>\n",
              "      <th>4</th>\n",
              "      <td>The Good, the Bad and the Ugly</td>\n",
              "      <td>8.8</td>\n",
              "      <td>9.7</td>\n",
              "    </tr>\n",
              "    <tr>\n",
              "      <th>5</th>\n",
              "      <td>Spider-Man: Into the Spider-Verse</td>\n",
              "      <td>8.4</td>\n",
              "      <td>9.7</td>\n",
              "    </tr>\n",
              "    <tr>\n",
              "      <th>6</th>\n",
              "      <td>The Pianist</td>\n",
              "      <td>8.5</td>\n",
              "      <td>9.5</td>\n",
              "    </tr>\n",
              "    <tr>\n",
              "      <th>8</th>\n",
              "      <td>Raiders of the Lost Ark</td>\n",
              "      <td>8.4</td>\n",
              "      <td>9.5</td>\n",
              "    </tr>\n",
              "    <tr>\n",
              "      <th>...</th>\n",
              "      <td>...</td>\n",
              "      <td>...</td>\n",
              "      <td>...</td>\n",
              "    </tr>\n",
              "    <tr>\n",
              "      <th>16220</th>\n",
              "      <td>Finding Nemo</td>\n",
              "      <td>8.1</td>\n",
              "      <td>9.9</td>\n",
              "    </tr>\n",
              "    <tr>\n",
              "      <th>16221</th>\n",
              "      <td>Coco</td>\n",
              "      <td>8.4</td>\n",
              "      <td>9.7</td>\n",
              "    </tr>\n",
              "    <tr>\n",
              "      <th>16222</th>\n",
              "      <td>Toy Story 3</td>\n",
              "      <td>8.3</td>\n",
              "      <td>9.8</td>\n",
              "    </tr>\n",
              "    <tr>\n",
              "      <th>16229</th>\n",
              "      <td>The Princess Bride</td>\n",
              "      <td>8.1</td>\n",
              "      <td>9.7</td>\n",
              "    </tr>\n",
              "    <tr>\n",
              "      <th>16262</th>\n",
              "      <td>Togo</td>\n",
              "      <td>8.1</td>\n",
              "      <td>9.1</td>\n",
              "    </tr>\n",
              "  </tbody>\n",
              "</table>\n",
              "<p>90 rows × 3 columns</p>\n",
              "</div>"
            ],
            "text/plain": [
              "                                   Title  IMDb  Rotten Tomatoes\n",
              "3                     Back to the Future   8.5              9.6\n",
              "4         The Good, the Bad and the Ugly   8.8              9.7\n",
              "5      Spider-Man: Into the Spider-Verse   8.4              9.7\n",
              "6                            The Pianist   8.5              9.5\n",
              "8                Raiders of the Lost Ark   8.4              9.5\n",
              "...                                  ...   ...              ...\n",
              "16220                       Finding Nemo   8.1              9.9\n",
              "16221                               Coco   8.4              9.7\n",
              "16222                        Toy Story 3   8.3              9.8\n",
              "16229                 The Princess Bride   8.1              9.7\n",
              "16262                               Togo   8.1              9.1\n",
              "\n",
              "[90 rows x 3 columns]"
            ]
          },
          "execution_count": 460,
          "metadata": {},
          "output_type": "execute_result"
        }
      ],
      "source": [
        "cond=(movie['IMDb']>8.0) & (movie['Rotten Tomatoes']>9.0)\n",
        "movie.loc[cond,['Title','IMDb','Rotten Tomatoes']]"
      ]
    },
    {
      "cell_type": "markdown",
      "metadata": {},
      "source": [
        "# Which platform has the highest average Rotten Tomatoes score?"
      ]
    },
    {
      "cell_type": "code",
      "execution_count": null,
      "metadata": {},
      "outputs": [
        {
          "data": {
            "text/plain": [
              "'Hulu'"
            ]
          },
          "execution_count": 461,
          "metadata": {},
          "output_type": "execute_result"
        }
      ],
      "source": [
        "\n",
        "gp=Platforms_df1.groupby(['Platform'])\n",
        "gp['Rotten Tomatoes'].mean().idxmax()\n"
      ]
    },
    {
      "cell_type": "markdown",
      "metadata": {},
      "source": [
        "# What is the average runtime of all movies?"
      ]
    },
    {
      "cell_type": "code",
      "execution_count": null,
      "metadata": {},
      "outputs": [
        {
          "data": {
            "text/plain": [
              "np.float64(93.4134472511144)"
            ]
          },
          "execution_count": 462,
          "metadata": {},
          "output_type": "execute_result"
        }
      ],
      "source": [
        "movie['Runtime'].mean()"
      ]
    },
    {
      "cell_type": "markdown",
      "metadata": {},
      "source": [
        "# Which movie has the longest runtime?"
      ]
    },
    {
      "cell_type": "code",
      "execution_count": null,
      "metadata": {},
      "outputs": [
        {
          "data": {
            "text/html": [
              "<div>\n",
              "<style scoped>\n",
              "    .dataframe tbody tr th:only-of-type {\n",
              "        vertical-align: middle;\n",
              "    }\n",
              "\n",
              "    .dataframe tbody tr th {\n",
              "        vertical-align: top;\n",
              "    }\n",
              "\n",
              "    .dataframe thead th {\n",
              "        text-align: right;\n",
              "    }\n",
              "</style>\n",
              "<table border=\"1\" class=\"dataframe\">\n",
              "  <thead>\n",
              "    <tr style=\"text-align: right;\">\n",
              "      <th></th>\n",
              "      <th>Title</th>\n",
              "      <th>Runtime</th>\n",
              "    </tr>\n",
              "  </thead>\n",
              "  <tbody>\n",
              "    <tr>\n",
              "      <th>13179</th>\n",
              "      <td>Colorado</td>\n",
              "      <td>1256.0</td>\n",
              "    </tr>\n",
              "  </tbody>\n",
              "</table>\n",
              "</div>"
            ],
            "text/plain": [
              "          Title  Runtime\n",
              "13179  Colorado   1256.0"
            ]
          },
          "execution_count": 463,
          "metadata": {},
          "output_type": "execute_result"
        }
      ],
      "source": [
        "cond=(movie['Runtime']==max(movie['Runtime']))\n",
        "movie.loc[cond,['Title','Runtime']]"
      ]
    },
    {
      "cell_type": "markdown",
      "metadata": {},
      "source": [
        "# Which genre tends to have the longest average runtime "
      ]
    },
    {
      "cell_type": "code",
      "execution_count": null,
      "metadata": {},
      "outputs": [
        {
          "data": {
            "text/plain": [
              "'Musical'"
            ]
          },
          "execution_count": 464,
          "metadata": {},
          "output_type": "execute_result"
        }
      ],
      "source": [
        "Genres_df.groupby(['Genres'])['Runtime'].mean().idxmax()"
      ]
    },
    {
      "cell_type": "markdown",
      "metadata": {},
      "source": [
        "# Which genre tends to have the longest  runtime on avg "
      ]
    },
    {
      "cell_type": "code",
      "execution_count": null,
      "metadata": {},
      "outputs": [],
      "source": [
        "# Genres_df.groupby(['Genres'])['Runtime'].max().mean()\n"
      ]
    },
    {
      "cell_type": "code",
      "execution_count": null,
      "metadata": {},
      "outputs": [
        {
          "data": {
            "text/plain": [
              "Genres    Drama,Romance\n",
              "Name: 1256, dtype: object"
            ]
          },
          "execution_count": 466,
          "metadata": {},
          "output_type": "execute_result"
        }
      ],
      "source": [
        "\n",
        "cond=max(movie['Runtime'])\n",
        "Genres_df.loc[cond,['Genres']]\n",
        "#---------------or------------\n",
        "movie.loc[cond,['Genres']]"
      ]
    },
    {
      "cell_type": "markdown",
      "metadata": {},
      "source": [
        "# How many movies have a runtime of less than 60 minutes?"
      ]
    },
    {
      "cell_type": "code",
      "execution_count": null,
      "metadata": {},
      "outputs": [
        {
          "data": {
            "text/plain": [
              "Title    1219\n",
              "dtype: int64"
            ]
          },
          "execution_count": 467,
          "metadata": {},
          "output_type": "execute_result"
        }
      ],
      "source": [
        "cond=movie['Runtime']<60\n",
        "movie.loc[cond,['Title']].count()"
      ]
    },
    {
      "cell_type": "markdown",
      "metadata": {},
      "source": [
        "# What is the average IMDb rating for movies with a runtime above 150 minutes?"
      ]
    },
    {
      "cell_type": "code",
      "execution_count": null,
      "metadata": {},
      "outputs": [
        {
          "data": {
            "text/plain": [
              "IMDb    6.622574\n",
              "dtype: float64"
            ]
          },
          "execution_count": 468,
          "metadata": {},
          "output_type": "execute_result"
        }
      ],
      "source": [
        "cond=movie['Runtime']>150\n",
        "movie.loc[cond,['IMDb']].mean()"
      ]
    },
    {
      "cell_type": "markdown",
      "metadata": {},
      "source": [
        "# How many unique movies are in the dataset?\n",
        "# What is the average IMDb rating of all movies?\n",
        "# How many movies were released each year?\n",
        "# What is the most common genre in the dataset?\n",
        "# What is the most common language for movies?\n",
        "\n",
        "# How many movies are available on each streaming platform?\n",
        "# Which platform has the highest average IMDb rating?\n",
        "# Are there any movies available on all four platforms (Netflix, Hulu, Prime Video, Disney+)?\n",
        "# Which platform has the most movies with an IMDb rating above 8.0?\n",
        "# Which platform has the most movies released after 2015?\n",
        "\n",
        "# What are the top 5 genres with the most movies?\n",
        "# Which genre has the highest average IMDb rating?\n",
        "# What is the most popular genre on Netflix?\n",
        "# How many movies in the Comedy genre have an IMDb rating above 7.5?\n",
        "# What is the average IMDb rating for Horror movies?\n",
        "\n",
        "# Who are the top 5 directors with the most movies in the dataset?\n",
        "# Which director has the highest average IMDb rating?\n",
        "# Which director has made the most Action movies?\n",
        "# What is the average IMDb rating of movies directed by Christopher Nolan?\n",
        "# How many movies by Steven Spielberg are available on Prime Video?\n",
        "\n",
        "# What are the top 5 most common languages in the dataset?\n",
        "# What is the average IMDb rating of French movies?\n",
        "# How many movies are from the United States?\n",
        "# Which country has produced the most Drama movies?\n",
        "# What is the most common language for movies on Hulu?\n",
        "# IMDb and Rotten Tomatoes Score Analysis\n",
        "# What is the highest IMDb rating in the dataset, and which movie has it?\n",
        "# What is the lowest Rotten Tomatoes score, and which movie has it?\n",
        "# What is the correlation between IMDb ratings and Rotten Tomatoes scores?\n",
        "# How many movies have both IMDb rating above 8.0 and Rotten Tomatoes score above 90%?\n",
        "# Which platform has the highest average Rotten Tomatoes score?\n",
        "\n",
        "# What is the average runtime of all movies?\n",
        "# Which movie has the longest runtime?\n",
        "# Which genre tends to have the longest runtime on average?\n",
        "# How many movies have a runtime of less than 60 minutes?\n",
        "# What is the average IMDb rating for movies with a runtime above 150 minutes?"
      ]
    },
    {
      "cell_type": "markdown",
      "metadata": {},
      "source": []
    },
    {
      "cell_type": "markdown",
      "metadata": {},
      "source": []
    },
    {
      "cell_type": "markdown",
      "metadata": {},
      "source": []
    },
    {
      "cell_type": "markdown",
      "metadata": {},
      "source": []
    },
    {
      "cell_type": "markdown",
      "metadata": {},
      "source": []
    },
    {
      "cell_type": "markdown",
      "metadata": {},
      "source": []
    },
    {
      "cell_type": "markdown",
      "metadata": {},
      "source": []
    },
    {
      "cell_type": "markdown",
      "metadata": {},
      "source": []
    },
    {
      "cell_type": "markdown",
      "metadata": {},
      "source": []
    },
    {
      "cell_type": "markdown",
      "metadata": {},
      "source": []
    },
    {
      "cell_type": "markdown",
      "metadata": {},
      "source": []
    },
    {
      "cell_type": "markdown",
      "metadata": {},
      "source": []
    },
    {
      "cell_type": "markdown",
      "metadata": {},
      "source": []
    },
    {
      "cell_type": "markdown",
      "metadata": {},
      "source": []
    },
    {
      "cell_type": "markdown",
      "metadata": {},
      "source": []
    },
    {
      "cell_type": "markdown",
      "metadata": {},
      "source": []
    },
    {
      "cell_type": "markdown",
      "metadata": {},
      "source": []
    },
    {
      "cell_type": "markdown",
      "metadata": {},
      "source": []
    },
    {
      "cell_type": "markdown",
      "metadata": {},
      "source": []
    },
    {
      "cell_type": "markdown",
      "metadata": {},
      "source": []
    }
  ],
  "metadata": {
    "colab": {
      "provenance": []
    },
    "kernelspec": {
      "display_name": "Python 3",
      "name": "python3"
    },
    "language_info": {
      "codemirror_mode": {
        "name": "ipython",
        "version": 3
      },
      "file_extension": ".py",
      "mimetype": "text/x-python",
      "name": "python",
      "nbconvert_exporter": "python",
      "pygments_lexer": "ipython3",
      "version": "3.12.1"
    }
  },
  "nbformat": 4,
  "nbformat_minor": 0
}
